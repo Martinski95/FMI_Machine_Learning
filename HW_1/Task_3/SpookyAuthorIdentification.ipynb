{
 "cells": [
  {
   "cell_type": "code",
   "execution_count": 1,
   "metadata": {},
   "outputs": [],
   "source": [
    "import sys\n",
    "\n",
    "import sklearn\n",
    "import pandas as pd\n",
    "import matplotlib as mpl\n",
    "import matplotlib.pyplot as plt\n",
    "import seaborn as sns\n",
    "import numpy as np\n",
    "import warnings\n",
    "\n",
    "from sklearn.model_selection import train_test_split\n",
    "from sklearn.linear_model import LogisticRegression\n",
    "from sklearn.ensemble import RandomForestClassifier\n",
    "from sklearn.svm import SVC\n",
    "from sklearn.model_selection import GridSearchCV\n",
    "from sklearn.model_selection import cross_val_score\n",
    "from sklearn import metrics\n",
    "\n",
    "from sklearn.feature_extraction.text import CountVectorizer, TfidfVectorizer, HashingVectorizer\n",
    "from sklearn.pipeline import Pipeline\n",
    "from sklearn.decomposition import NMF, LatentDirichletAllocation\n",
    "from sklearn.naive_bayes import MultinomialNB\n",
    "from sklearn.model_selection import RandomizedSearchCV\n",
    "from sklearn.model_selection import StratifiedKFold\n",
    "from sklearn.preprocessing import StandardScaler\n",
    "\n",
    "import nltk\n",
    "\n",
    "import re\n",
    "\n",
    "%matplotlib inline\n",
    "\n",
    "pd.options.display.max_rows = 15\n",
    "\n",
    "warnings.filterwarnings('ignore')"
   ]
  },
  {
   "cell_type": "code",
   "execution_count": 2,
   "metadata": {},
   "outputs": [
    {
     "name": "stdout",
     "output_type": "stream",
     "text": [
      "(19579, 2) (8392, 1) (8392, 3)\n"
     ]
    },
    {
     "data": {
      "text/html": [
       "<div>\n",
       "<style>\n",
       "    .dataframe thead tr:only-child th {\n",
       "        text-align: right;\n",
       "    }\n",
       "\n",
       "    .dataframe thead th {\n",
       "        text-align: left;\n",
       "    }\n",
       "\n",
       "    .dataframe tbody tr th {\n",
       "        vertical-align: top;\n",
       "    }\n",
       "</style>\n",
       "<table border=\"1\" class=\"dataframe\">\n",
       "  <thead>\n",
       "    <tr style=\"text-align: right;\">\n",
       "      <th></th>\n",
       "      <th>EAP</th>\n",
       "      <th>HPL</th>\n",
       "      <th>MWS</th>\n",
       "    </tr>\n",
       "    <tr>\n",
       "      <th>id</th>\n",
       "      <th></th>\n",
       "      <th></th>\n",
       "      <th></th>\n",
       "    </tr>\n",
       "  </thead>\n",
       "  <tbody>\n",
       "    <tr>\n",
       "      <th>id02310</th>\n",
       "      <td>0.403494</td>\n",
       "      <td>0.287808</td>\n",
       "      <td>0.308698</td>\n",
       "    </tr>\n",
       "    <tr>\n",
       "      <th>id24541</th>\n",
       "      <td>0.403494</td>\n",
       "      <td>0.287808</td>\n",
       "      <td>0.308698</td>\n",
       "    </tr>\n",
       "    <tr>\n",
       "      <th>id00134</th>\n",
       "      <td>0.403494</td>\n",
       "      <td>0.287808</td>\n",
       "      <td>0.308698</td>\n",
       "    </tr>\n",
       "    <tr>\n",
       "      <th>id27757</th>\n",
       "      <td>0.403494</td>\n",
       "      <td>0.287808</td>\n",
       "      <td>0.308698</td>\n",
       "    </tr>\n",
       "    <tr>\n",
       "      <th>id04081</th>\n",
       "      <td>0.403494</td>\n",
       "      <td>0.287808</td>\n",
       "      <td>0.308698</td>\n",
       "    </tr>\n",
       "    <tr>\n",
       "      <th>id27337</th>\n",
       "      <td>0.403494</td>\n",
       "      <td>0.287808</td>\n",
       "      <td>0.308698</td>\n",
       "    </tr>\n",
       "    <tr>\n",
       "      <th>id24265</th>\n",
       "      <td>0.403494</td>\n",
       "      <td>0.287808</td>\n",
       "      <td>0.308698</td>\n",
       "    </tr>\n",
       "    <tr>\n",
       "      <th>...</th>\n",
       "      <td>...</td>\n",
       "      <td>...</td>\n",
       "      <td>...</td>\n",
       "    </tr>\n",
       "    <tr>\n",
       "      <th>id07156</th>\n",
       "      <td>0.403494</td>\n",
       "      <td>0.287808</td>\n",
       "      <td>0.308698</td>\n",
       "    </tr>\n",
       "    <tr>\n",
       "      <th>id04893</th>\n",
       "      <td>0.403494</td>\n",
       "      <td>0.287808</td>\n",
       "      <td>0.308698</td>\n",
       "    </tr>\n",
       "    <tr>\n",
       "      <th>id11749</th>\n",
       "      <td>0.403494</td>\n",
       "      <td>0.287808</td>\n",
       "      <td>0.308698</td>\n",
       "    </tr>\n",
       "    <tr>\n",
       "      <th>id10526</th>\n",
       "      <td>0.403494</td>\n",
       "      <td>0.287808</td>\n",
       "      <td>0.308698</td>\n",
       "    </tr>\n",
       "    <tr>\n",
       "      <th>id13477</th>\n",
       "      <td>0.403494</td>\n",
       "      <td>0.287808</td>\n",
       "      <td>0.308698</td>\n",
       "    </tr>\n",
       "    <tr>\n",
       "      <th>id13761</th>\n",
       "      <td>0.403494</td>\n",
       "      <td>0.287808</td>\n",
       "      <td>0.308698</td>\n",
       "    </tr>\n",
       "    <tr>\n",
       "      <th>id04282</th>\n",
       "      <td>0.403494</td>\n",
       "      <td>0.287808</td>\n",
       "      <td>0.308698</td>\n",
       "    </tr>\n",
       "  </tbody>\n",
       "</table>\n",
       "<p>8392 rows × 3 columns</p>\n",
       "</div>"
      ],
      "text/plain": [
       "              EAP       HPL       MWS\n",
       "id                                   \n",
       "id02310  0.403494  0.287808  0.308698\n",
       "id24541  0.403494  0.287808  0.308698\n",
       "id00134  0.403494  0.287808  0.308698\n",
       "id27757  0.403494  0.287808  0.308698\n",
       "id04081  0.403494  0.287808  0.308698\n",
       "id27337  0.403494  0.287808  0.308698\n",
       "id24265  0.403494  0.287808  0.308698\n",
       "...           ...       ...       ...\n",
       "id07156  0.403494  0.287808  0.308698\n",
       "id04893  0.403494  0.287808  0.308698\n",
       "id11749  0.403494  0.287808  0.308698\n",
       "id10526  0.403494  0.287808  0.308698\n",
       "id13477  0.403494  0.287808  0.308698\n",
       "id13761  0.403494  0.287808  0.308698\n",
       "id04282  0.403494  0.287808  0.308698\n",
       "\n",
       "[8392 rows x 3 columns]"
      ]
     },
     "execution_count": 2,
     "metadata": {},
     "output_type": "execute_result"
    }
   ],
   "source": [
    "train = pd.read_csv(\"data/train.zip\", index_col=['id'])\n",
    "test = pd.read_csv(\"data/test.zip\", index_col=['id'])\n",
    "sample_submission = pd.read_csv(\"data/sample_submission.zip\", index_col=['id'])\n",
    "\n",
    "print(train.shape, test.shape, sample_submission.shape)\n",
    "sample_submission"
   ]
  },
  {
   "cell_type": "code",
   "execution_count": 3,
   "metadata": {},
   "outputs": [
    {
     "data": {
      "image/png": "[encoded data removed]",
      "text/plain": [
       "<matplotlib.figure.Figure at 0x1a4200b0eb8>"
      ]
     },
     "metadata": {},
     "output_type": "display_data"
    }
   ],
   "source": [
    "sns.countplot(data=train, x='author');"
   ]
  },
  {
   "cell_type": "code",
   "execution_count": 4,
   "metadata": {},
   "outputs": [],
   "source": [
    "train_df = train.copy(deep=True)\n",
    "test_df = test.copy(deep=True)"
   ]
  },
  {
   "cell_type": "markdown",
   "metadata": {},
   "source": [
    "#### Първо ще пробвам да добавя feature-и за някои препинателни знаци като точки, запетаи, двоеточия и точки и запетаи."
   ]
  },
  {
   "cell_type": "code",
   "execution_count": 5,
   "metadata": {},
   "outputs": [],
   "source": [
    "train_df['dots'] =train_df['text'].apply(lambda x: len([c for c in str(x) if c == '.']) )\n",
    "train_df['commas'] =train_df['text'].apply(lambda x: len([c for c in str(x) if c == ',']) )\n",
    "train_df['colons'] =train_df['text'].apply(lambda x: len(re.findall(\"\\:\", x)) )\n",
    "train_df['semicolons'] =train_df['text'].apply(lambda x: len(re.findall(\"\\;\", x)) )"
   ]
  },
  {
   "cell_type": "code",
   "execution_count": 6,
   "metadata": {},
   "outputs": [
    {
     "data": {
      "text/plain": [
       "<matplotlib.axes._subplots.AxesSubplot at 0x1a4259ac048>"
      ]
     },
     "execution_count": 6,
     "metadata": {},
     "output_type": "execute_result"
    },
    {
     "data": {
      "image/png": "[encoded data removed]",
      "text/plain": [
       "<matplotlib.figure.Figure at 0x1a4257a24e0>"
      ]
     },
     "metadata": {},
     "output_type": "display_data"
    }
   ],
   "source": [
    "f, axes = plt.subplots(2,2,figsize=(14, 12))\n",
    "sns.violinplot(x=\"author\", y=\"dots\", data=train_df, ax = axes[0,0])\n",
    "sns.violinplot(x=\"author\", y=\"commas\", data=train_df, ax = axes[0,1])\n",
    "sns.violinplot(x=\"author\", y=\"colons\", data=train_df, ax = axes[1,0])\n",
    "sns.violinplot(x=\"author\", y=\"semicolons\", data=train_df, ax = axes[1,1])"
   ]
  },
  {
   "cell_type": "markdown",
   "metadata": {},
   "source": [
    "Най-съществени разлики има при точките, запетаите и двоеточията, но оставяме и 4-те feature-а."
   ]
  },
  {
   "cell_type": "markdown",
   "metadata": {},
   "source": [
    "Още нещо което ще пробвам е да добавя като feature-и броя на съществителни, глаголи, прилагателни и съюзи. За целта използвам nltk в частност word_tokenize (nltk.download('punkt')) за токенизация на текстовете и pos_tag (nltk.download('averaged_perceptron_tagger')) за определяне на каква част на речта е всяка дума.\n",
    "\n",
    "Освен това, ще добавя и броя думи, както и броя уникални думи."
   ]
  },
  {
   "cell_type": "code",
   "execution_count": null,
   "metadata": {},
   "outputs": [],
   "source": [
    "# nltk.download('punkt')\n",
    "# nltk.download('averaged_perceptron_tagger')\n",
    "# nltk.download('stopwords')"
   ]
  },
  {
   "cell_type": "code",
   "execution_count": 7,
   "metadata": {},
   "outputs": [],
   "source": [
    "def noun_count(text):\n",
    "    tokenized_text = nltk.word_tokenize(text)\n",
    "    tagged_words = nltk.pos_tag(tokenized_text)\n",
    "    return sum([tag in ('NN','NNP','NNPS','NNS') for word, tag in tagged_words])\n",
    "\n",
    "def verb_count(text):\n",
    "    tokenized_text = nltk.word_tokenize(text)\n",
    "    tagged_words = nltk.pos_tag(tokenized_text)\n",
    "    return sum([tag in ('VB','VBD','VBG', 'VBN', 'VBP', 'VBZ') for word, tag in tagged_words])\n",
    "\n",
    "def adjective_count(text):\n",
    "    tokenized_text = nltk.word_tokenize(text)\n",
    "    tagged_words = nltk.pos_tag(tokenized_text)\n",
    "    return sum([tag in ('JJ','JJR','JJS') for word, tag in tagged_words])\n",
    "\n",
    "def conjunction_count(text):\n",
    "    tokenized_text = nltk.word_tokenize(text)\n",
    "    tagged_words = nltk.pos_tag(tokenized_text)\n",
    "    return sum([tag in ('CC') for word, tag in tagged_words])\n",
    "\n",
    "def word_count(text):\n",
    "    return len(text.split())"
   ]
  },
  {
   "cell_type": "code",
   "execution_count": 8,
   "metadata": {},
   "outputs": [],
   "source": [
    "train_df['nouns'] =train_df['text'].apply(noun_count)\n",
    "train_df['verbs'] =train_df['text'].apply(verb_count)\n",
    "train_df['adjectives'] =train_df['text'].apply(adjective_count)\n",
    "train_df['conjunctions'] =train_df['text'].apply(adjective_count)\n",
    "train_df['word_count'] =train_df['text'].apply(word_count)\n",
    "train_df['unique_words'] =train_df['text'].apply(lambda x: len(set(str(x).split())))"
   ]
  },
  {
   "cell_type": "markdown",
   "metadata": {},
   "source": [
    "Добавям и броя stop words."
   ]
  },
  {
   "cell_type": "code",
   "execution_count": 9,
   "metadata": {},
   "outputs": [],
   "source": [
    "stopwords = nltk.corpus.stopwords.words('english')\n",
    "train_df['stop_words'] =train_df['text'].apply(lambda x: sum(w in stopwords for w in str(x).split()))"
   ]
  },
  {
   "cell_type": "code",
   "execution_count": 10,
   "metadata": {},
   "outputs": [
    {
     "data": {
      "text/plain": [
       "<matplotlib.axes._subplots.AxesSubplot at 0x1a427f136a0>"
      ]
     },
     "execution_count": 10,
     "metadata": {},
     "output_type": "execute_result"
    },
    {
     "data": {
      "image/png": "[encoded data removed]",
      "text/plain": [
       "<matplotlib.figure.Figure at 0x1a427e60278>"
      ]
     },
     "metadata": {},
     "output_type": "display_data"
    }
   ],
   "source": [
    "f, axes = plt.subplots(2,2,figsize=(14, 12))\n",
    "sns.violinplot(x=\"author\", y=\"nouns\", data=train_df, ax = axes[0,0])\n",
    "sns.violinplot(x=\"author\", y=\"verbs\", data=train_df, ax = axes[0,1])\n",
    "sns.violinplot(x=\"author\", y=\"adjectives\", data=train_df, ax = axes[1,0])\n",
    "sns.violinplot(x=\"author\", y=\"conjunctions\", data=train_df, ax = axes[1,1])"
   ]
  },
  {
   "cell_type": "markdown",
   "metadata": {},
   "source": [
    "Отново забелязваме относителни разлики между използването на съществителни, прилагателни, глаголи и съюзи."
   ]
  },
  {
   "cell_type": "code",
   "execution_count": 11,
   "metadata": {},
   "outputs": [
    {
     "data": {
      "text/plain": [
       "<matplotlib.axes._subplots.AxesSubplot at 0x1a428ae0a58>"
      ]
     },
     "execution_count": 11,
     "metadata": {},
     "output_type": "execute_result"
    },
    {
     "data": {
      "image/png": "[encoded data removed]",
      "text/plain": [
       "<matplotlib.figure.Figure at 0x1a4257720f0>"
      ]
     },
     "metadata": {},
     "output_type": "display_data"
    }
   ],
   "source": [
    "f, axes = plt.subplots(2,2,figsize=(14, 12))\n",
    "sns.violinplot(x=\"author\", y=\"word_count\", data=train_df, ax = axes[0,0])\n",
    "sns.violinplot(x=\"author\", y=\"unique_words\", data=train_df, ax = axes[0,1])\n",
    "sns.violinplot(x=\"author\", y=\"stop_words\", data=train_df, ax = axes[1,0])"
   ]
  },
  {
   "cell_type": "markdown",
   "metadata": {},
   "source": [
    "Ще използвам tf-idf векторизатор и Multinomial Naive Bayes за модел. Ще прекарам текста през тях и след това ще добавя резултатите като feature-и и ще тренирам различни модели (т. нар. model stacking) - Logistic Regression, RandomForestClassifier."
   ]
  },
  {
   "cell_type": "code",
   "execution_count": 12,
   "metadata": {},
   "outputs": [],
   "source": [
    "vectorizer = TfidfVectorizer(ngram_range=(1, 2), min_df=2,\n",
    "                                 max_df=0.8, lowercase=False)\n",
    "MNB = MultinomialNB(alpha=0.03)"
   ]
  },
  {
   "cell_type": "code",
   "execution_count": 13,
   "metadata": {},
   "outputs": [],
   "source": [
    "vectorizer = vectorizer.fit(train_df.text)"
   ]
  },
  {
   "cell_type": "code",
   "execution_count": 14,
   "metadata": {},
   "outputs": [],
   "source": [
    "transformed_train_text = vectorizer.transform(train_df.text)\n",
    "transformed_test_text = vectorizer.transform(test_df.text)"
   ]
  },
  {
   "cell_type": "markdown",
   "metadata": {},
   "source": [
    "Ще използвам StratifiedKFold за крос валидация, защото без него цялата процедура само затвърждаваше вече постигнатите резултати (т.е. ако сме познали сме по-уверени, ако сме сбъркали - бъркаме повече). [Thanks to](https://medium.com/@literallywords/stratified-k-fold-with-keras-e57c487b1416)"
   ]
  },
  {
   "cell_type": "code",
   "execution_count": 15,
   "metadata": {},
   "outputs": [],
   "source": [
    "splits = 20\n",
    "cv = StratifiedKFold(n_splits=splits, shuffle=True, random_state=1337)"
   ]
  },
  {
   "cell_type": "code",
   "execution_count": 16,
   "metadata": {},
   "outputs": [],
   "source": [
    "probabilities = pd.np.zeros([train_df.shape[0], 3])\n",
    "probabilities_test = 0 \n",
    "\n",
    "for traincv, testcv in cv.split(transformed_train_text, train_df.author):\n",
    "    X_train, X_test = transformed_train_text[traincv], transformed_train_text[testcv]\n",
    "    y_train, y_test = train_df.author[traincv], train_df.author[testcv]\n",
    "    \n",
    "    p = MNB.fit(X_train, y_train)\n",
    "    t_pred = p.predict_proba(transformed_test_text)\n",
    "    probabilities_test += t_pred\n",
    "    probabilities[testcv, :] = p.predict_proba(X_test)\n",
    "\n",
    "probabilities_test /= splits"
   ]
  },
  {
   "cell_type": "markdown",
   "metadata": {},
   "source": [
    "Добавям получените резултати като нови feature-и в train dataframe-a."
   ]
  },
  {
   "cell_type": "code",
   "execution_count": 17,
   "metadata": {},
   "outputs": [],
   "source": [
    "train_df['eap_prediction'] = probabilities[:, 0]\n",
    "train_df['hpl_prediction'] = probabilities[:, 1]\n",
    "train_df['mws_prediction'] = probabilities[:, 2]"
   ]
  },
  {
   "cell_type": "code",
   "execution_count": 18,
   "metadata": {},
   "outputs": [
    {
     "data": {
      "text/plain": [
       "Index(['text', 'author', 'dots', 'commas', 'colons', 'semicolons', 'nouns',\n",
       "       'verbs', 'adjectives', 'conjunctions', 'word_count', 'unique_words',\n",
       "       'stop_words', 'eap_prediction', 'hpl_prediction', 'mws_prediction'],\n",
       "      dtype='object')"
      ]
     },
     "execution_count": 18,
     "metadata": {},
     "output_type": "execute_result"
    }
   ],
   "source": [
    "train_df.columns"
   ]
  },
  {
   "cell_type": "markdown",
   "metadata": {},
   "source": [
    "Да тренираме модели."
   ]
  },
  {
   "cell_type": "code",
   "execution_count": 19,
   "metadata": {},
   "outputs": [],
   "source": [
    "def get_x_y(dataframe):\n",
    "    X = dataframe[dataframe.describe().columns]\n",
    "    dataframe['author_num'] = dataframe.author.replace(['EAP', 'HPL', 'MWS'], [0, 1, 2])\n",
    "    y = dataframe['author_num']\n",
    "    print('X: {}\\ny: {}'.format(X.shape, y.shape))\n",
    "    \n",
    "    return (X, y)"
   ]
  },
  {
   "cell_type": "code",
   "execution_count": 20,
   "metadata": {},
   "outputs": [
    {
     "name": "stdout",
     "output_type": "stream",
     "text": [
      "X: (19579, 14)\n",
      "y: (19579,)\n"
     ]
    }
   ],
   "source": [
    "X, y = get_x_y(train_df)"
   ]
  },
  {
   "cell_type": "code",
   "execution_count": 21,
   "metadata": {},
   "outputs": [],
   "source": [
    "X_train, X_test, y_train, y_test = train_test_split(X, y, stratify=y, random_state=1337)"
   ]
  },
  {
   "cell_type": "code",
   "execution_count": 22,
   "metadata": {},
   "outputs": [
    {
     "name": "stdout",
     "output_type": "stream",
     "text": [
      "Train\n",
      "[ 0.88053097  0.87265918  0.85427307  0.87091281  0.8722752 ]\n",
      "[-0.33704023 -0.35302748 -0.38453136 -0.34123757 -0.3437007 ]\n"
     ]
    }
   ],
   "source": [
    "model = LogisticRegression()\n",
    "model.fit(X_train, y_train)\n",
    "\n",
    "print(\"Train\")\n",
    "print(cross_val_score(model, X_train, y_train, cv=5, n_jobs=3))\n",
    "print(cross_val_score(model, X_train, y_train, cv=5, n_jobs=3, \n",
    "                      scoring='neg_log_loss'))"
   ]
  },
  {
   "cell_type": "code",
   "execution_count": 23,
   "metadata": {},
   "outputs": [
    {
     "name": "stdout",
     "output_type": "stream",
     "text": [
      "Test\n",
      "[ 0.87857143  0.88559755  0.87640449  0.8804903   0.86809816]\n",
      "[-0.33646913 -0.31102472 -0.3069625  -0.33416341 -0.35642881]\n"
     ]
    }
   ],
   "source": [
    "print(\"Test\")\n",
    "print(cross_val_score(model, X_test, y_test, cv=5, n_jobs=3))\n",
    "print(cross_val_score(model, X_test, y_test, cv=5, n_jobs=3, \n",
    "                      scoring='neg_log_loss'))"
   ]
  },
  {
   "cell_type": "markdown",
   "metadata": {},
   "source": [
    "Изглежда впечатляващо добре на test set-a. Нека пробваме и Random Forest."
   ]
  },
  {
   "cell_type": "code",
   "execution_count": 24,
   "metadata": {},
   "outputs": [
    {
     "name": "stdout",
     "output_type": "stream",
     "text": [
      "Train\n",
      "[ 0.86827774  0.86108274  0.84576098  0.86546322  0.86818801]\n",
      "[-1.16632161 -1.14407988 -1.48690358 -1.01896035 -1.18873861]\n"
     ]
    }
   ],
   "source": [
    "forest = RandomForestClassifier(random_state=1337)\n",
    "forest.fit(X_train, y_train)\n",
    "\n",
    "print(\"Train\")\n",
    "print(cross_val_score(forest, X_train, y_train, cv=5, n_jobs=3))\n",
    "print(cross_val_score(forest, X_train, y_train, cv=5, n_jobs=3, \n",
    "                      scoring='neg_log_loss'))"
   ]
  },
  {
   "cell_type": "code",
   "execution_count": 25,
   "metadata": {},
   "outputs": [
    {
     "name": "stdout",
     "output_type": "stream",
     "text": [
      "Test\n",
      "[ 0.86632653  0.87129724  0.87334014  0.87436159  0.8599182 ]\n",
      "[-1.06611274 -0.81471707 -1.05901405 -1.20135704 -1.34692267]\n"
     ]
    }
   ],
   "source": [
    "print(\"Test\")\n",
    "print(cross_val_score(forest, X_test, y_test, cv=5, n_jobs=3))\n",
    "print(cross_val_score(forest, X_test, y_test, cv=5, n_jobs=3, \n",
    "                      scoring='neg_log_loss'))"
   ]
  },
  {
   "cell_type": "markdown",
   "metadata": {},
   "source": [
    "Нещо не е наред. Да пуснем grid search за да намерим подходящи хиперпараметри."
   ]
  },
  {
   "cell_type": "code",
   "execution_count": 26,
   "metadata": {},
   "outputs": [
    {
     "name": "stdout",
     "output_type": "stream",
     "text": [
      "Fitting 3 folds for each of 30 candidates, totalling 90 fits\n"
     ]
    },
    {
     "name": "stderr",
     "output_type": "stream",
     "text": [
      "[Parallel(n_jobs=1)]: Done  90 out of  90 | elapsed:  3.6min finished\n"
     ]
    },
    {
     "name": "stdout",
     "output_type": "stream",
     "text": [
      "0.873486899229\n",
      "RandomForestClassifier(bootstrap=True, class_weight=None, criterion='gini',\n",
      "            max_depth=12, max_features='auto', max_leaf_nodes=None,\n",
      "            min_impurity_decrease=0.0, min_impurity_split=None,\n",
      "            min_samples_leaf=1, min_samples_split=2,\n",
      "            min_weight_fraction_leaf=0.0, n_estimators=150, n_jobs=1,\n",
      "            oob_score=False, random_state=1337, verbose=0,\n",
      "            warm_start=False)\n"
     ]
    }
   ],
   "source": [
    "n_estimators=[10, 50, 100, 150, 200, 250]\n",
    "max_depths=[4, 6, 10, 12, 15]\n",
    "hyper={'n_estimators':n_estimators,\n",
    "           'max_depth':max_depths}\n",
    "gd=GridSearchCV(estimator=RandomForestClassifier(random_state=1337),param_grid=hyper,verbose=True)\n",
    "gd.fit(X,y)\n",
    "print(gd.best_score_)\n",
    "print(gd.best_estimator_)"
   ]
  },
  {
   "cell_type": "code",
   "execution_count": 27,
   "metadata": {},
   "outputs": [
    {
     "name": "stdout",
     "output_type": "stream",
     "text": [
      "Train\n",
      "[ 0.88053097  0.87299966  0.855635    0.8746594   0.8743188 ]\n",
      "[-0.33331302 -0.34038922 -0.36700105 -0.32625686 -0.32934034]\n"
     ]
    }
   ],
   "source": [
    "forest = RandomForestClassifier(random_state=1337, n_estimators=150 , max_depth=12)\n",
    "forest.fit(X_train, y_train)\n",
    "\n",
    "print(\"Train\")\n",
    "print(cross_val_score(forest, X_train, y_train, cv=5, n_jobs=3))\n",
    "print(cross_val_score(forest, X_train, y_train, cv=5, n_jobs=3, \n",
    "                      scoring='neg_log_loss'))"
   ]
  },
  {
   "cell_type": "code",
   "execution_count": 28,
   "metadata": {},
   "outputs": [
    {
     "name": "stdout",
     "output_type": "stream",
     "text": [
      "Test\n",
      "[ 0.88163265  0.88151175  0.8845761   0.88151175  0.86707566]\n",
      "[-0.33033786 -0.30423387 -0.31202397 -0.33729089 -0.349735  ]\n"
     ]
    }
   ],
   "source": [
    "print(\"Test\")\n",
    "print(cross_val_score(forest, X_test, y_test, cv=5, n_jobs=3))\n",
    "print(cross_val_score(forest, X_test, y_test, cv=5, n_jobs=3, \n",
    "                      scoring='neg_log_loss'))"
   ]
  },
  {
   "cell_type": "markdown",
   "metadata": {},
   "source": [
    "### Време за submit в kaggle. Първо трябва да преобразим и test_df."
   ]
  },
  {
   "cell_type": "code",
   "execution_count": 29,
   "metadata": {},
   "outputs": [],
   "source": [
    "test_df['dots'] =test_df['text'].apply(lambda x: len([c for c in str(x) if c == '.']) )\n",
    "test_df['commas'] =test_df['text'].apply(lambda x: len([c for c in str(x) if c == ',']) )\n",
    "test_df['colons'] =test_df['text'].apply(lambda x: len(re.findall(\"\\:\", x)) )\n",
    "test_df['semicolons'] =test_df['text'].apply(lambda x: len(re.findall(\"\\;\", x)) )\n",
    "\n",
    "test_df['nouns'] =test_df['text'].apply(noun_count)\n",
    "test_df['verbs'] =test_df['text'].apply(verb_count)\n",
    "test_df['adjectives'] =test_df['text'].apply(adjective_count)\n",
    "test_df['conjunctions'] =test_df['text'].apply(adjective_count)\n",
    "test_df['word_count'] =test_df['text'].apply(word_count)\n",
    "test_df['unique_words'] =test_df['text'].apply(lambda x: len(set(str(x).split())))\n",
    "\n",
    "test_df['stop_words'] =test_df['text'].apply(lambda x: sum(w in stopwords for w in str(x).split()))\n",
    "\n",
    "test_df['eap_prediction'] = probabilities_test[:, 0]\n",
    "test_df['hpl_prediction'] = probabilities_test[:, 1]\n",
    "test_df['mws_prediction'] = probabilities_test[:, 2]"
   ]
  },
  {
   "cell_type": "code",
   "execution_count": 30,
   "metadata": {},
   "outputs": [
    {
     "data": {
      "text/plain": [
       "Index(['text', 'author', 'dots', 'commas', 'colons', 'semicolons', 'nouns',\n",
       "       'verbs', 'adjectives', 'conjunctions', 'word_count', 'unique_words',\n",
       "       'stop_words', 'eap_prediction', 'hpl_prediction', 'mws_prediction',\n",
       "       'author_num'],\n",
       "      dtype='object')"
      ]
     },
     "execution_count": 30,
     "metadata": {},
     "output_type": "execute_result"
    }
   ],
   "source": [
    "train_df.columns"
   ]
  },
  {
   "cell_type": "code",
   "execution_count": 31,
   "metadata": {},
   "outputs": [
    {
     "data": {
      "text/plain": [
       "Index(['text', 'dots', 'commas', 'colons', 'semicolons', 'nouns', 'verbs',\n",
       "       'adjectives', 'conjunctions', 'word_count', 'unique_words',\n",
       "       'stop_words', 'eap_prediction', 'hpl_prediction', 'mws_prediction'],\n",
       "      dtype='object')"
      ]
     },
     "execution_count": 31,
     "metadata": {},
     "output_type": "execute_result"
    }
   ],
   "source": [
    "test_df.columns"
   ]
  },
  {
   "cell_type": "code",
   "execution_count": 32,
   "metadata": {},
   "outputs": [],
   "source": [
    "prediction_test = forest.predict_proba(test_df[test_df.describe().columns])"
   ]
  },
  {
   "cell_type": "code",
   "execution_count": 33,
   "metadata": {},
   "outputs": [
    {
     "data": {
      "text/plain": [
       "array([0, 1, 2], dtype=int64)"
      ]
     },
     "execution_count": 33,
     "metadata": {},
     "output_type": "execute_result"
    }
   ],
   "source": [
    "forest.classes_"
   ]
  },
  {
   "cell_type": "code",
   "execution_count": 34,
   "metadata": {},
   "outputs": [
    {
     "data": {
      "text/html": [
       "<div>\n",
       "<style>\n",
       "    .dataframe thead tr:only-child th {\n",
       "        text-align: right;\n",
       "    }\n",
       "\n",
       "    .dataframe thead th {\n",
       "        text-align: left;\n",
       "    }\n",
       "\n",
       "    .dataframe tbody tr th {\n",
       "        vertical-align: top;\n",
       "    }\n",
       "</style>\n",
       "<table border=\"1\" class=\"dataframe\">\n",
       "  <thead>\n",
       "    <tr style=\"text-align: right;\">\n",
       "      <th></th>\n",
       "      <th>EAP</th>\n",
       "      <th>HPL</th>\n",
       "      <th>MWS</th>\n",
       "    </tr>\n",
       "    <tr>\n",
       "      <th>id</th>\n",
       "      <th></th>\n",
       "      <th></th>\n",
       "      <th></th>\n",
       "    </tr>\n",
       "  </thead>\n",
       "  <tbody>\n",
       "    <tr>\n",
       "      <th>id02310</th>\n",
       "      <td>0.029587</td>\n",
       "      <td>0.013839</td>\n",
       "      <td>0.956573</td>\n",
       "    </tr>\n",
       "    <tr>\n",
       "      <th>id24541</th>\n",
       "      <td>0.999049</td>\n",
       "      <td>0.000303</td>\n",
       "      <td>0.000647</td>\n",
       "    </tr>\n",
       "    <tr>\n",
       "      <th>id00134</th>\n",
       "      <td>0.000463</td>\n",
       "      <td>0.884576</td>\n",
       "      <td>0.114961</td>\n",
       "    </tr>\n",
       "    <tr>\n",
       "      <th>id27757</th>\n",
       "      <td>0.801902</td>\n",
       "      <td>0.165542</td>\n",
       "      <td>0.032556</td>\n",
       "    </tr>\n",
       "    <tr>\n",
       "      <th>id04081</th>\n",
       "      <td>0.671786</td>\n",
       "      <td>0.198480</td>\n",
       "      <td>0.129735</td>\n",
       "    </tr>\n",
       "    <tr>\n",
       "      <th>id27337</th>\n",
       "      <td>0.984770</td>\n",
       "      <td>0.010344</td>\n",
       "      <td>0.004885</td>\n",
       "    </tr>\n",
       "    <tr>\n",
       "      <th>id24265</th>\n",
       "      <td>0.950050</td>\n",
       "      <td>0.032996</td>\n",
       "      <td>0.016953</td>\n",
       "    </tr>\n",
       "    <tr>\n",
       "      <th>id25917</th>\n",
       "      <td>0.016736</td>\n",
       "      <td>0.008260</td>\n",
       "      <td>0.975004</td>\n",
       "    </tr>\n",
       "    <tr>\n",
       "      <th>id04951</th>\n",
       "      <td>0.996239</td>\n",
       "      <td>0.001793</td>\n",
       "      <td>0.001968</td>\n",
       "    </tr>\n",
       "    <tr>\n",
       "      <th>id14549</th>\n",
       "      <td>0.779412</td>\n",
       "      <td>0.120657</td>\n",
       "      <td>0.099931</td>\n",
       "    </tr>\n",
       "  </tbody>\n",
       "</table>\n",
       "</div>"
      ],
      "text/plain": [
       "              EAP       HPL       MWS\n",
       "id                                   \n",
       "id02310  0.029587  0.013839  0.956573\n",
       "id24541  0.999049  0.000303  0.000647\n",
       "id00134  0.000463  0.884576  0.114961\n",
       "id27757  0.801902  0.165542  0.032556\n",
       "id04081  0.671786  0.198480  0.129735\n",
       "id27337  0.984770  0.010344  0.004885\n",
       "id24265  0.950050  0.032996  0.016953\n",
       "id25917  0.016736  0.008260  0.975004\n",
       "id04951  0.996239  0.001793  0.001968\n",
       "id14549  0.779412  0.120657  0.099931"
      ]
     },
     "execution_count": 34,
     "metadata": {},
     "output_type": "execute_result"
    }
   ],
   "source": [
    "submit_file_test = pd.DataFrame(prediction_test, columns=['EAP', 'HPL', 'MWS'], index=test_df.index)\n",
    "submit_file_test.head(10)"
   ]
  },
  {
   "cell_type": "code",
   "execution_count": 35,
   "metadata": {},
   "outputs": [],
   "source": [
    "submit_file_test.to_csv(\"data/forest.csv\")"
   ]
  },
  {
   "cell_type": "markdown",
   "metadata": {},
   "source": [
    "## Резултати:\n",
    "- RandomForestClassifier = 0.35916\n",
    "- Logistic Regression = 0.37541"
   ]
  }
 ],
 "metadata": {
  "kernelspec": {
   "display_name": "Python 3",
   "language": "python",
   "name": "python3"
  },
  "language_info": {
   "codemirror_mode": {
    "name": "ipython",
    "version": 3
   },
   "file_extension": ".py",
   "mimetype": "text/x-python",
   "name": "python",
   "nbconvert_exporter": "python",
   "pygments_lexer": "ipython3",
   "version": "3.6.3"
  }
 },
 "nbformat": 4,
 "nbformat_minor": 2
}
