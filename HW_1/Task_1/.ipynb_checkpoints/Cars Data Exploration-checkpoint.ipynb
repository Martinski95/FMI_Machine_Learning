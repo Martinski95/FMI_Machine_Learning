{
 "cells": [
  {
   "cell_type": "markdown",
   "metadata": {},
   "source": [
    "## Data exploration, feature engineering и трениране на различни модели за предвиждане на цена. Използван е dataset [Used cars database](https://www.kaggle.com/orgesleka/used-cars-database) от Kaggle."
   ]
  },
  {
   "cell_type": "markdown",
   "metadata": {},
   "source": [
    "Добавяне на нужните библиотеки и филтриране на warning-ите:"
   ]
  },
  {
   "cell_type": "code",
   "execution_count": 1,
   "metadata": {},
   "outputs": [],
   "source": [
    "import sys\n",
    "\n",
    "import sklearn\n",
    "import pandas as pd\n",
    "import matplotlib as mpl\n",
    "import matplotlib.pyplot as plt\n",
    "import seaborn as sns\n",
    "import numpy as np\n",
    "import warnings\n",
    "\n",
    "from sklearn.preprocessing import LabelEncoder\n",
    "from sklearn.model_selection import train_test_split\n",
    "from sklearn.linear_model import LinearRegression\n",
    "from sklearn.ensemble import RandomForestRegressor\n",
    "from sklearn.linear_model import Ridge\n",
    "from sklearn.linear_model import Lasso\n",
    "from sklearn.svm import SVR\n",
    "from sklearn.model_selection import GridSearchCV\n",
    "from sklearn.model_selection import cross_val_score\n",
    "\n",
    "%matplotlib inline\n",
    "\n",
    "pd.options.display.max_rows = 15\n",
    "\n",
    "warnings.filterwarnings('ignore')"
   ]
  },
  {
   "cell_type": "markdown",
   "metadata": {},
   "source": [
    "Първо зареждаме данните - csv файл с около 370000 записа."
   ]
  },
  {
   "cell_type": "code",
   "execution_count": 2,
   "metadata": {},
   "outputs": [],
   "source": [
    "original_df = pd.read_csv('data/autos.csv', encoding = \"ISO-8859-1\")"
   ]
  },
  {
   "cell_type": "markdown",
   "metadata": {},
   "source": [
    "Нека погледнем как изглежда dataset-а."
   ]
  },
  {
   "cell_type": "code",
   "execution_count": 3,
   "metadata": {},
   "outputs": [
    {
     "data": {
      "text/html": [
       "<div>\n",
       "<style scoped>\n",
       "    .dataframe tbody tr th:only-of-type {\n",
       "        vertical-align: middle;\n",
       "    }\n",
       "\n",
       "    .dataframe tbody tr th {\n",
       "        vertical-align: top;\n",
       "    }\n",
       "\n",
       "    .dataframe thead th {\n",
       "        text-align: right;\n",
       "    }\n",
       "</style>\n",
       "<table border=\"1\" class=\"dataframe\">\n",
       "  <thead>\n",
       "    <tr style=\"text-align: right;\">\n",
       "      <th></th>\n",
       "      <th>dateCrawled</th>\n",
       "      <th>name</th>\n",
       "      <th>seller</th>\n",
       "      <th>offerType</th>\n",
       "      <th>price</th>\n",
       "      <th>abtest</th>\n",
       "      <th>vehicleType</th>\n",
       "      <th>yearOfRegistration</th>\n",
       "      <th>gearbox</th>\n",
       "      <th>powerPS</th>\n",
       "      <th>model</th>\n",
       "      <th>kilometer</th>\n",
       "      <th>monthOfRegistration</th>\n",
       "      <th>fuelType</th>\n",
       "      <th>brand</th>\n",
       "      <th>notRepairedDamage</th>\n",
       "      <th>dateCreated</th>\n",
       "      <th>nrOfPictures</th>\n",
       "      <th>postalCode</th>\n",
       "      <th>lastSeen</th>\n",
       "    </tr>\n",
       "  </thead>\n",
       "  <tbody>\n",
       "    <tr>\n",
       "      <th>0</th>\n",
       "      <td>2016-03-24 11:52:17</td>\n",
       "      <td>Golf_3_1.6</td>\n",
       "      <td>privat</td>\n",
       "      <td>Angebot</td>\n",
       "      <td>480</td>\n",
       "      <td>test</td>\n",
       "      <td>NaN</td>\n",
       "      <td>1993</td>\n",
       "      <td>manuell</td>\n",
       "      <td>0</td>\n",
       "      <td>golf</td>\n",
       "      <td>150000</td>\n",
       "      <td>0</td>\n",
       "      <td>benzin</td>\n",
       "      <td>volkswagen</td>\n",
       "      <td>NaN</td>\n",
       "      <td>2016-03-24 00:00:00</td>\n",
       "      <td>0</td>\n",
       "      <td>70435</td>\n",
       "      <td>2016-04-07 03:16:57</td>\n",
       "    </tr>\n",
       "    <tr>\n",
       "      <th>1</th>\n",
       "      <td>2016-03-24 10:58:45</td>\n",
       "      <td>A5_Sportback_2.7_Tdi</td>\n",
       "      <td>privat</td>\n",
       "      <td>Angebot</td>\n",
       "      <td>18300</td>\n",
       "      <td>test</td>\n",
       "      <td>coupe</td>\n",
       "      <td>2011</td>\n",
       "      <td>manuell</td>\n",
       "      <td>190</td>\n",
       "      <td>NaN</td>\n",
       "      <td>125000</td>\n",
       "      <td>5</td>\n",
       "      <td>diesel</td>\n",
       "      <td>audi</td>\n",
       "      <td>ja</td>\n",
       "      <td>2016-03-24 00:00:00</td>\n",
       "      <td>0</td>\n",
       "      <td>66954</td>\n",
       "      <td>2016-04-07 01:46:50</td>\n",
       "    </tr>\n",
       "    <tr>\n",
       "      <th>2</th>\n",
       "      <td>2016-03-14 12:52:21</td>\n",
       "      <td>Jeep_Grand_Cherokee_\"Overland\"</td>\n",
       "      <td>privat</td>\n",
       "      <td>Angebot</td>\n",
       "      <td>9800</td>\n",
       "      <td>test</td>\n",
       "      <td>suv</td>\n",
       "      <td>2004</td>\n",
       "      <td>automatik</td>\n",
       "      <td>163</td>\n",
       "      <td>grand</td>\n",
       "      <td>125000</td>\n",
       "      <td>8</td>\n",
       "      <td>diesel</td>\n",
       "      <td>jeep</td>\n",
       "      <td>NaN</td>\n",
       "      <td>2016-03-14 00:00:00</td>\n",
       "      <td>0</td>\n",
       "      <td>90480</td>\n",
       "      <td>2016-04-05 12:47:46</td>\n",
       "    </tr>\n",
       "    <tr>\n",
       "      <th>3</th>\n",
       "      <td>2016-03-17 16:54:04</td>\n",
       "      <td>GOLF_4_1_4__3TÜRER</td>\n",
       "      <td>privat</td>\n",
       "      <td>Angebot</td>\n",
       "      <td>1500</td>\n",
       "      <td>test</td>\n",
       "      <td>kleinwagen</td>\n",
       "      <td>2001</td>\n",
       "      <td>manuell</td>\n",
       "      <td>75</td>\n",
       "      <td>golf</td>\n",
       "      <td>150000</td>\n",
       "      <td>6</td>\n",
       "      <td>benzin</td>\n",
       "      <td>volkswagen</td>\n",
       "      <td>nein</td>\n",
       "      <td>2016-03-17 00:00:00</td>\n",
       "      <td>0</td>\n",
       "      <td>91074</td>\n",
       "      <td>2016-03-17 17:40:17</td>\n",
       "    </tr>\n",
       "    <tr>\n",
       "      <th>4</th>\n",
       "      <td>2016-03-31 17:25:20</td>\n",
       "      <td>Skoda_Fabia_1.4_TDI_PD_Classic</td>\n",
       "      <td>privat</td>\n",
       "      <td>Angebot</td>\n",
       "      <td>3600</td>\n",
       "      <td>test</td>\n",
       "      <td>kleinwagen</td>\n",
       "      <td>2008</td>\n",
       "      <td>manuell</td>\n",
       "      <td>69</td>\n",
       "      <td>fabia</td>\n",
       "      <td>90000</td>\n",
       "      <td>7</td>\n",
       "      <td>diesel</td>\n",
       "      <td>skoda</td>\n",
       "      <td>nein</td>\n",
       "      <td>2016-03-31 00:00:00</td>\n",
       "      <td>0</td>\n",
       "      <td>60437</td>\n",
       "      <td>2016-04-06 10:17:21</td>\n",
       "    </tr>\n",
       "    <tr>\n",
       "      <th>5</th>\n",
       "      <td>2016-04-04 17:36:23</td>\n",
       "      <td>BMW_316i___e36_Limousine___Bastlerfahrzeug__Ex...</td>\n",
       "      <td>privat</td>\n",
       "      <td>Angebot</td>\n",
       "      <td>650</td>\n",
       "      <td>test</td>\n",
       "      <td>limousine</td>\n",
       "      <td>1995</td>\n",
       "      <td>manuell</td>\n",
       "      <td>102</td>\n",
       "      <td>3er</td>\n",
       "      <td>150000</td>\n",
       "      <td>10</td>\n",
       "      <td>benzin</td>\n",
       "      <td>bmw</td>\n",
       "      <td>ja</td>\n",
       "      <td>2016-04-04 00:00:00</td>\n",
       "      <td>0</td>\n",
       "      <td>33775</td>\n",
       "      <td>2016-04-06 19:17:07</td>\n",
       "    </tr>\n",
       "    <tr>\n",
       "      <th>6</th>\n",
       "      <td>2016-04-01 20:48:51</td>\n",
       "      <td>Peugeot_206_CC_110_Platinum</td>\n",
       "      <td>privat</td>\n",
       "      <td>Angebot</td>\n",
       "      <td>2200</td>\n",
       "      <td>test</td>\n",
       "      <td>cabrio</td>\n",
       "      <td>2004</td>\n",
       "      <td>manuell</td>\n",
       "      <td>109</td>\n",
       "      <td>2_reihe</td>\n",
       "      <td>150000</td>\n",
       "      <td>8</td>\n",
       "      <td>benzin</td>\n",
       "      <td>peugeot</td>\n",
       "      <td>nein</td>\n",
       "      <td>2016-04-01 00:00:00</td>\n",
       "      <td>0</td>\n",
       "      <td>67112</td>\n",
       "      <td>2016-04-05 18:18:39</td>\n",
       "    </tr>\n",
       "    <tr>\n",
       "      <th>...</th>\n",
       "      <td>...</td>\n",
       "      <td>...</td>\n",
       "      <td>...</td>\n",
       "      <td>...</td>\n",
       "      <td>...</td>\n",
       "      <td>...</td>\n",
       "      <td>...</td>\n",
       "      <td>...</td>\n",
       "      <td>...</td>\n",
       "      <td>...</td>\n",
       "      <td>...</td>\n",
       "      <td>...</td>\n",
       "      <td>...</td>\n",
       "      <td>...</td>\n",
       "      <td>...</td>\n",
       "      <td>...</td>\n",
       "      <td>...</td>\n",
       "      <td>...</td>\n",
       "      <td>...</td>\n",
       "      <td>...</td>\n",
       "    </tr>\n",
       "    <tr>\n",
       "      <th>371521</th>\n",
       "      <td>2016-03-27 20:36:20</td>\n",
       "      <td>Opel_Zafira_1.6_Elegance_TÜV_12/16</td>\n",
       "      <td>privat</td>\n",
       "      <td>Angebot</td>\n",
       "      <td>1150</td>\n",
       "      <td>control</td>\n",
       "      <td>bus</td>\n",
       "      <td>2000</td>\n",
       "      <td>manuell</td>\n",
       "      <td>0</td>\n",
       "      <td>zafira</td>\n",
       "      <td>150000</td>\n",
       "      <td>3</td>\n",
       "      <td>benzin</td>\n",
       "      <td>opel</td>\n",
       "      <td>nein</td>\n",
       "      <td>2016-03-27 00:00:00</td>\n",
       "      <td>0</td>\n",
       "      <td>26624</td>\n",
       "      <td>2016-03-29 10:17:23</td>\n",
       "    </tr>\n",
       "    <tr>\n",
       "      <th>371522</th>\n",
       "      <td>2016-03-21 09:50:58</td>\n",
       "      <td>Mitsubishi_Cold</td>\n",
       "      <td>privat</td>\n",
       "      <td>Angebot</td>\n",
       "      <td>0</td>\n",
       "      <td>control</td>\n",
       "      <td>NaN</td>\n",
       "      <td>2005</td>\n",
       "      <td>manuell</td>\n",
       "      <td>0</td>\n",
       "      <td>colt</td>\n",
       "      <td>150000</td>\n",
       "      <td>7</td>\n",
       "      <td>benzin</td>\n",
       "      <td>mitsubishi</td>\n",
       "      <td>ja</td>\n",
       "      <td>2016-03-21 00:00:00</td>\n",
       "      <td>0</td>\n",
       "      <td>2694</td>\n",
       "      <td>2016-03-21 10:42:49</td>\n",
       "    </tr>\n",
       "    <tr>\n",
       "      <th>371523</th>\n",
       "      <td>2016-03-14 17:48:27</td>\n",
       "      <td>Suche_t4___vito_ab_6_sitze</td>\n",
       "      <td>privat</td>\n",
       "      <td>Angebot</td>\n",
       "      <td>2200</td>\n",
       "      <td>test</td>\n",
       "      <td>NaN</td>\n",
       "      <td>2005</td>\n",
       "      <td>NaN</td>\n",
       "      <td>0</td>\n",
       "      <td>NaN</td>\n",
       "      <td>20000</td>\n",
       "      <td>1</td>\n",
       "      <td>NaN</td>\n",
       "      <td>sonstige_autos</td>\n",
       "      <td>NaN</td>\n",
       "      <td>2016-03-14 00:00:00</td>\n",
       "      <td>0</td>\n",
       "      <td>39576</td>\n",
       "      <td>2016-04-06 00:46:52</td>\n",
       "    </tr>\n",
       "    <tr>\n",
       "      <th>371524</th>\n",
       "      <td>2016-03-05 19:56:21</td>\n",
       "      <td>Smart_smart_leistungssteigerung_100ps</td>\n",
       "      <td>privat</td>\n",
       "      <td>Angebot</td>\n",
       "      <td>1199</td>\n",
       "      <td>test</td>\n",
       "      <td>cabrio</td>\n",
       "      <td>2000</td>\n",
       "      <td>automatik</td>\n",
       "      <td>101</td>\n",
       "      <td>fortwo</td>\n",
       "      <td>125000</td>\n",
       "      <td>3</td>\n",
       "      <td>benzin</td>\n",
       "      <td>smart</td>\n",
       "      <td>nein</td>\n",
       "      <td>2016-03-05 00:00:00</td>\n",
       "      <td>0</td>\n",
       "      <td>26135</td>\n",
       "      <td>2016-03-11 18:17:12</td>\n",
       "    </tr>\n",
       "    <tr>\n",
       "      <th>371525</th>\n",
       "      <td>2016-03-19 18:57:12</td>\n",
       "      <td>Volkswagen_Multivan_T4_TDI_7DC_UY2</td>\n",
       "      <td>privat</td>\n",
       "      <td>Angebot</td>\n",
       "      <td>9200</td>\n",
       "      <td>test</td>\n",
       "      <td>bus</td>\n",
       "      <td>1996</td>\n",
       "      <td>manuell</td>\n",
       "      <td>102</td>\n",
       "      <td>transporter</td>\n",
       "      <td>150000</td>\n",
       "      <td>3</td>\n",
       "      <td>diesel</td>\n",
       "      <td>volkswagen</td>\n",
       "      <td>nein</td>\n",
       "      <td>2016-03-19 00:00:00</td>\n",
       "      <td>0</td>\n",
       "      <td>87439</td>\n",
       "      <td>2016-04-07 07:15:26</td>\n",
       "    </tr>\n",
       "    <tr>\n",
       "      <th>371526</th>\n",
       "      <td>2016-03-20 19:41:08</td>\n",
       "      <td>VW_Golf_Kombi_1_9l_TDI</td>\n",
       "      <td>privat</td>\n",
       "      <td>Angebot</td>\n",
       "      <td>3400</td>\n",
       "      <td>test</td>\n",
       "      <td>kombi</td>\n",
       "      <td>2002</td>\n",
       "      <td>manuell</td>\n",
       "      <td>100</td>\n",
       "      <td>golf</td>\n",
       "      <td>150000</td>\n",
       "      <td>6</td>\n",
       "      <td>diesel</td>\n",
       "      <td>volkswagen</td>\n",
       "      <td>NaN</td>\n",
       "      <td>2016-03-20 00:00:00</td>\n",
       "      <td>0</td>\n",
       "      <td>40764</td>\n",
       "      <td>2016-03-24 12:45:21</td>\n",
       "    </tr>\n",
       "    <tr>\n",
       "      <th>371527</th>\n",
       "      <td>2016-03-07 19:39:19</td>\n",
       "      <td>BMW_M135i_vollausgestattet_NP_52.720____Euro</td>\n",
       "      <td>privat</td>\n",
       "      <td>Angebot</td>\n",
       "      <td>28990</td>\n",
       "      <td>control</td>\n",
       "      <td>limousine</td>\n",
       "      <td>2013</td>\n",
       "      <td>manuell</td>\n",
       "      <td>320</td>\n",
       "      <td>m_reihe</td>\n",
       "      <td>50000</td>\n",
       "      <td>8</td>\n",
       "      <td>benzin</td>\n",
       "      <td>bmw</td>\n",
       "      <td>nein</td>\n",
       "      <td>2016-03-07 00:00:00</td>\n",
       "      <td>0</td>\n",
       "      <td>73326</td>\n",
       "      <td>2016-03-22 03:17:10</td>\n",
       "    </tr>\n",
       "  </tbody>\n",
       "</table>\n",
       "<p>371528 rows × 20 columns</p>\n",
       "</div>"
      ],
      "text/plain": [
       "                dateCrawled  \\\n",
       "0       2016-03-24 11:52:17   \n",
       "1       2016-03-24 10:58:45   \n",
       "2       2016-03-14 12:52:21   \n",
       "3       2016-03-17 16:54:04   \n",
       "4       2016-03-31 17:25:20   \n",
       "5       2016-04-04 17:36:23   \n",
       "6       2016-04-01 20:48:51   \n",
       "...                     ...   \n",
       "371521  2016-03-27 20:36:20   \n",
       "371522  2016-03-21 09:50:58   \n",
       "371523  2016-03-14 17:48:27   \n",
       "371524  2016-03-05 19:56:21   \n",
       "371525  2016-03-19 18:57:12   \n",
       "371526  2016-03-20 19:41:08   \n",
       "371527  2016-03-07 19:39:19   \n",
       "\n",
       "                                                     name  seller offerType  \\\n",
       "0                                              Golf_3_1.6  privat   Angebot   \n",
       "1                                    A5_Sportback_2.7_Tdi  privat   Angebot   \n",
       "2                          Jeep_Grand_Cherokee_\"Overland\"  privat   Angebot   \n",
       "3                                      GOLF_4_1_4__3TÜRER  privat   Angebot   \n",
       "4                          Skoda_Fabia_1.4_TDI_PD_Classic  privat   Angebot   \n",
       "5       BMW_316i___e36_Limousine___Bastlerfahrzeug__Ex...  privat   Angebot   \n",
       "6                             Peugeot_206_CC_110_Platinum  privat   Angebot   \n",
       "...                                                   ...     ...       ...   \n",
       "371521                 Opel_Zafira_1.6_Elegance_TÜV_12/16  privat   Angebot   \n",
       "371522                                    Mitsubishi_Cold  privat   Angebot   \n",
       "371523                         Suche_t4___vito_ab_6_sitze  privat   Angebot   \n",
       "371524              Smart_smart_leistungssteigerung_100ps  privat   Angebot   \n",
       "371525                 Volkswagen_Multivan_T4_TDI_7DC_UY2  privat   Angebot   \n",
       "371526                             VW_Golf_Kombi_1_9l_TDI  privat   Angebot   \n",
       "371527       BMW_M135i_vollausgestattet_NP_52.720____Euro  privat   Angebot   \n",
       "\n",
       "        price   abtest vehicleType  yearOfRegistration    gearbox  powerPS  \\\n",
       "0         480     test         NaN                1993    manuell        0   \n",
       "1       18300     test       coupe                2011    manuell      190   \n",
       "2        9800     test         suv                2004  automatik      163   \n",
       "3        1500     test  kleinwagen                2001    manuell       75   \n",
       "4        3600     test  kleinwagen                2008    manuell       69   \n",
       "5         650     test   limousine                1995    manuell      102   \n",
       "6        2200     test      cabrio                2004    manuell      109   \n",
       "...       ...      ...         ...                 ...        ...      ...   \n",
       "371521   1150  control         bus                2000    manuell        0   \n",
       "371522      0  control         NaN                2005    manuell        0   \n",
       "371523   2200     test         NaN                2005        NaN        0   \n",
       "371524   1199     test      cabrio                2000  automatik      101   \n",
       "371525   9200     test         bus                1996    manuell      102   \n",
       "371526   3400     test       kombi                2002    manuell      100   \n",
       "371527  28990  control   limousine                2013    manuell      320   \n",
       "\n",
       "              model  kilometer  monthOfRegistration fuelType           brand  \\\n",
       "0              golf     150000                    0   benzin      volkswagen   \n",
       "1               NaN     125000                    5   diesel            audi   \n",
       "2             grand     125000                    8   diesel            jeep   \n",
       "3              golf     150000                    6   benzin      volkswagen   \n",
       "4             fabia      90000                    7   diesel           skoda   \n",
       "5               3er     150000                   10   benzin             bmw   \n",
       "6           2_reihe     150000                    8   benzin         peugeot   \n",
       "...             ...        ...                  ...      ...             ...   \n",
       "371521       zafira     150000                    3   benzin            opel   \n",
       "371522         colt     150000                    7   benzin      mitsubishi   \n",
       "371523          NaN      20000                    1      NaN  sonstige_autos   \n",
       "371524       fortwo     125000                    3   benzin           smart   \n",
       "371525  transporter     150000                    3   diesel      volkswagen   \n",
       "371526         golf     150000                    6   diesel      volkswagen   \n",
       "371527      m_reihe      50000                    8   benzin             bmw   \n",
       "\n",
       "       notRepairedDamage          dateCreated  nrOfPictures  postalCode  \\\n",
       "0                    NaN  2016-03-24 00:00:00             0       70435   \n",
       "1                     ja  2016-03-24 00:00:00             0       66954   \n",
       "2                    NaN  2016-03-14 00:00:00             0       90480   \n",
       "3                   nein  2016-03-17 00:00:00             0       91074   \n",
       "4                   nein  2016-03-31 00:00:00             0       60437   \n",
       "5                     ja  2016-04-04 00:00:00             0       33775   \n",
       "6                   nein  2016-04-01 00:00:00             0       67112   \n",
       "...                  ...                  ...           ...         ...   \n",
       "371521              nein  2016-03-27 00:00:00             0       26624   \n",
       "371522                ja  2016-03-21 00:00:00             0        2694   \n",
       "371523               NaN  2016-03-14 00:00:00             0       39576   \n",
       "371524              nein  2016-03-05 00:00:00             0       26135   \n",
       "371525              nein  2016-03-19 00:00:00             0       87439   \n",
       "371526               NaN  2016-03-20 00:00:00             0       40764   \n",
       "371527              nein  2016-03-07 00:00:00             0       73326   \n",
       "\n",
       "                   lastSeen  \n",
       "0       2016-04-07 03:16:57  \n",
       "1       2016-04-07 01:46:50  \n",
       "2       2016-04-05 12:47:46  \n",
       "3       2016-03-17 17:40:17  \n",
       "4       2016-04-06 10:17:21  \n",
       "5       2016-04-06 19:17:07  \n",
       "6       2016-04-05 18:18:39  \n",
       "...                     ...  \n",
       "371521  2016-03-29 10:17:23  \n",
       "371522  2016-03-21 10:42:49  \n",
       "371523  2016-04-06 00:46:52  \n",
       "371524  2016-03-11 18:17:12  \n",
       "371525  2016-04-07 07:15:26  \n",
       "371526  2016-03-24 12:45:21  \n",
       "371527  2016-03-22 03:17:10  \n",
       "\n",
       "[371528 rows x 20 columns]"
      ]
     },
     "execution_count": 3,
     "metadata": {},
     "output_type": "execute_result"
    }
   ],
   "source": [
    "original_df"
   ]
  },
  {
   "cell_type": "markdown",
   "metadata": {},
   "source": [
    "И всички колони и техните типове:"
   ]
  },
  {
   "cell_type": "code",
   "execution_count": 4,
   "metadata": {},
   "outputs": [
    {
     "name": "stdout",
     "output_type": "stream",
     "text": [
      "<class 'pandas.core.frame.DataFrame'>\n",
      "RangeIndex: 371528 entries, 0 to 371527\n",
      "Data columns (total 20 columns):\n",
      "dateCrawled            371528 non-null object\n",
      "name                   371528 non-null object\n",
      "seller                 371528 non-null object\n",
      "offerType              371528 non-null object\n",
      "price                  371528 non-null int64\n",
      "abtest                 371528 non-null object\n",
      "vehicleType            333659 non-null object\n",
      "yearOfRegistration     371528 non-null int64\n",
      "gearbox                351319 non-null object\n",
      "powerPS                371528 non-null int64\n",
      "model                  351044 non-null object\n",
      "kilometer              371528 non-null int64\n",
      "monthOfRegistration    371528 non-null int64\n",
      "fuelType               338142 non-null object\n",
      "brand                  371528 non-null object\n",
      "notRepairedDamage      299468 non-null object\n",
      "dateCreated            371528 non-null object\n",
      "nrOfPictures           371528 non-null int64\n",
      "postalCode             371528 non-null int64\n",
      "lastSeen               371528 non-null object\n",
      "dtypes: int64(7), object(13)\n",
      "memory usage: 56.7+ MB\n"
     ]
    }
   ],
   "source": [
    "original_df.info()"
   ]
  },
  {
   "cell_type": "markdown",
   "metadata": {},
   "source": [
    "На пръв поглед веднага виждаме колоните, които биха били най-полезни - price, vehicleType, yearOfRegistration, gearbox, powerPS (мощност в конски сили), model, kilometer, fuelType, brand.\n",
    "Да погледнем и допълнителната информация за числовите колони."
   ]
  },
  {
   "cell_type": "code",
   "execution_count": 5,
   "metadata": {},
   "outputs": [
    {
     "data": {
      "text/html": [
       "<div>\n",
       "<style scoped>\n",
       "    .dataframe tbody tr th:only-of-type {\n",
       "        vertical-align: middle;\n",
       "    }\n",
       "\n",
       "    .dataframe tbody tr th {\n",
       "        vertical-align: top;\n",
       "    }\n",
       "\n",
       "    .dataframe thead th {\n",
       "        text-align: right;\n",
       "    }\n",
       "</style>\n",
       "<table border=\"1\" class=\"dataframe\">\n",
       "  <thead>\n",
       "    <tr style=\"text-align: right;\">\n",
       "      <th></th>\n",
       "      <th>price</th>\n",
       "      <th>yearOfRegistration</th>\n",
       "      <th>powerPS</th>\n",
       "      <th>kilometer</th>\n",
       "      <th>monthOfRegistration</th>\n",
       "      <th>nrOfPictures</th>\n",
       "      <th>postalCode</th>\n",
       "    </tr>\n",
       "  </thead>\n",
       "  <tbody>\n",
       "    <tr>\n",
       "      <th>count</th>\n",
       "      <td>3.715280e+05</td>\n",
       "      <td>371528.000000</td>\n",
       "      <td>371528.000000</td>\n",
       "      <td>371528.000000</td>\n",
       "      <td>371528.000000</td>\n",
       "      <td>371528.0</td>\n",
       "      <td>371528.00000</td>\n",
       "    </tr>\n",
       "    <tr>\n",
       "      <th>mean</th>\n",
       "      <td>1.729514e+04</td>\n",
       "      <td>2004.577997</td>\n",
       "      <td>115.549477</td>\n",
       "      <td>125618.688228</td>\n",
       "      <td>5.734445</td>\n",
       "      <td>0.0</td>\n",
       "      <td>50820.66764</td>\n",
       "    </tr>\n",
       "    <tr>\n",
       "      <th>std</th>\n",
       "      <td>3.587954e+06</td>\n",
       "      <td>92.866598</td>\n",
       "      <td>192.139578</td>\n",
       "      <td>40112.337051</td>\n",
       "      <td>3.712412</td>\n",
       "      <td>0.0</td>\n",
       "      <td>25799.08247</td>\n",
       "    </tr>\n",
       "    <tr>\n",
       "      <th>min</th>\n",
       "      <td>0.000000e+00</td>\n",
       "      <td>1000.000000</td>\n",
       "      <td>0.000000</td>\n",
       "      <td>5000.000000</td>\n",
       "      <td>0.000000</td>\n",
       "      <td>0.0</td>\n",
       "      <td>1067.00000</td>\n",
       "    </tr>\n",
       "    <tr>\n",
       "      <th>25%</th>\n",
       "      <td>1.150000e+03</td>\n",
       "      <td>1999.000000</td>\n",
       "      <td>70.000000</td>\n",
       "      <td>125000.000000</td>\n",
       "      <td>3.000000</td>\n",
       "      <td>0.0</td>\n",
       "      <td>30459.00000</td>\n",
       "    </tr>\n",
       "    <tr>\n",
       "      <th>50%</th>\n",
       "      <td>2.950000e+03</td>\n",
       "      <td>2003.000000</td>\n",
       "      <td>105.000000</td>\n",
       "      <td>150000.000000</td>\n",
       "      <td>6.000000</td>\n",
       "      <td>0.0</td>\n",
       "      <td>49610.00000</td>\n",
       "    </tr>\n",
       "    <tr>\n",
       "      <th>75%</th>\n",
       "      <td>7.200000e+03</td>\n",
       "      <td>2008.000000</td>\n",
       "      <td>150.000000</td>\n",
       "      <td>150000.000000</td>\n",
       "      <td>9.000000</td>\n",
       "      <td>0.0</td>\n",
       "      <td>71546.00000</td>\n",
       "    </tr>\n",
       "    <tr>\n",
       "      <th>max</th>\n",
       "      <td>2.147484e+09</td>\n",
       "      <td>9999.000000</td>\n",
       "      <td>20000.000000</td>\n",
       "      <td>150000.000000</td>\n",
       "      <td>12.000000</td>\n",
       "      <td>0.0</td>\n",
       "      <td>99998.00000</td>\n",
       "    </tr>\n",
       "  </tbody>\n",
       "</table>\n",
       "</div>"
      ],
      "text/plain": [
       "              price  yearOfRegistration        powerPS      kilometer  \\\n",
       "count  3.715280e+05       371528.000000  371528.000000  371528.000000   \n",
       "mean   1.729514e+04         2004.577997     115.549477  125618.688228   \n",
       "std    3.587954e+06           92.866598     192.139578   40112.337051   \n",
       "min    0.000000e+00         1000.000000       0.000000    5000.000000   \n",
       "25%    1.150000e+03         1999.000000      70.000000  125000.000000   \n",
       "50%    2.950000e+03         2003.000000     105.000000  150000.000000   \n",
       "75%    7.200000e+03         2008.000000     150.000000  150000.000000   \n",
       "max    2.147484e+09         9999.000000   20000.000000  150000.000000   \n",
       "\n",
       "       monthOfRegistration  nrOfPictures    postalCode  \n",
       "count        371528.000000      371528.0  371528.00000  \n",
       "mean              5.734445           0.0   50820.66764  \n",
       "std               3.712412           0.0   25799.08247  \n",
       "min               0.000000           0.0    1067.00000  \n",
       "25%               3.000000           0.0   30459.00000  \n",
       "50%               6.000000           0.0   49610.00000  \n",
       "75%               9.000000           0.0   71546.00000  \n",
       "max              12.000000           0.0   99998.00000  "
      ]
     },
     "execution_count": 5,
     "metadata": {},
     "output_type": "execute_result"
    }
   ],
   "source": [
    "original_df.describe()"
   ]
  },
  {
   "cell_type": "markdown",
   "metadata": {},
   "source": [
    "Забелязваме няколко проблема:\n",
    "- в година на регистрация имаме странни записи - 1000 и 9999, трябва да изрежем записите със странни години.\n",
    "- в колоната мощност имаме записи с прекалено малки (0) и големи (20000, вероятно кораб?) стойности.\n",
    "- всички записи имат 0 броя снимки (колоната е ненужна)."
   ]
  },
  {
   "cell_type": "markdown",
   "metadata": {},
   "source": [
    "Проверяваме какво се съдържа в колоните носещи съмнителна информация:"
   ]
  },
  {
   "cell_type": "code",
   "execution_count": 6,
   "metadata": {},
   "outputs": [
    {
     "name": "stdout",
     "output_type": "stream",
     "text": [
      "['privat' 'gewerblich']\n",
      "['test' 'control']\n",
      "['Angebot' 'Gesuch']\n",
      "8150\n"
     ]
    }
   ],
   "source": [
    "print(original_df.seller.unique())\n",
    "print(original_df.abtest.unique())\n",
    "print(original_df.offerType.unique())\n",
    "print(len(original_df.postalCode.unique()))"
   ]
  },
  {
   "cell_type": "markdown",
   "metadata": {},
   "source": [
    "- има 2 типа обяви - частни и бизнес - има само 3 записа gewerblich => махаме колоната.\n",
    "- има 2 типа abtest - не знаем какво значи => пропускаме го засега.\n",
    "- има 2 типа оферти - Angebot и Gesuch, като от втората има само 12 записа => махаме колоната.\n",
    "- има 8150 вида пощенски кодове, които са категорни данни, too much features => махаме колоната."
   ]
  },
  {
   "cell_type": "code",
   "execution_count": 7,
   "metadata": {},
   "outputs": [
    {
     "name": "stdout",
     "output_type": "stream",
     "text": [
      "3\n",
      "12\n"
     ]
    }
   ],
   "source": [
    "print(len(original_df[original_df['seller'] == 'gewerblich']))\n",
    "print(len(original_df[original_df['offerType'] == 'Gesuch']))"
   ]
  },
  {
   "cell_type": "markdown",
   "metadata": {},
   "source": [
    "Освен тези, ще махнем и някои други ненужни колони."
   ]
  },
  {
   "cell_type": "code",
   "execution_count": 8,
   "metadata": {},
   "outputs": [],
   "source": [
    "df = original_df\n",
    "df.drop(['nrOfPictures', 'seller', 'abtest', 'offerType', 'dateCrawled', 'lastSeen', 'dateCreated', 'postalCode'] ,axis='columns', inplace=True)"
   ]
  },
  {
   "cell_type": "markdown",
   "metadata": {},
   "source": [
    "Сега да проверим колко празни полета имаме във всяка колона:"
   ]
  },
  {
   "cell_type": "code",
   "execution_count": 9,
   "metadata": {},
   "outputs": [
    {
     "data": {
      "text/plain": [
       "name                       0\n",
       "price                      0\n",
       "yearOfRegistration         0\n",
       "powerPS                    0\n",
       "kilometer                  0\n",
       "monthOfRegistration        0\n",
       "brand                      0\n",
       "gearbox                20209\n",
       "model                  20484\n",
       "fuelType               33386\n",
       "vehicleType            37869\n",
       "notRepairedDamage      72060\n",
       "dtype: int64"
      ]
     },
     "execution_count": 9,
     "metadata": {},
     "output_type": "execute_result"
    }
   ],
   "source": [
    "df.isnull().sum().sort_values()"
   ]
  },
  {
   "cell_type": "code",
   "execution_count": 10,
   "metadata": {
    "scrolled": false
   },
   "outputs": [
    {
     "name": "stdout",
     "output_type": "stream",
     "text": [
      "скоростни кутии -  ['manuell' 'automatik' nan]\n",
      "гориво -  ['benzin' 'diesel' nan 'lpg' 'andere' 'hybrid' 'cng' 'elektro']\n",
      "тип кола -  [nan 'coupe' 'suv' 'kleinwagen' 'limousine' 'cabrio' 'bus' 'kombi' 'andere']\n",
      "брой различни модели -  252\n"
     ]
    }
   ],
   "source": [
    "print(\"скоростни кутии - \", df.gearbox.unique())\n",
    "print(\"гориво - \", df.fuelType.unique())\n",
    "print(\"тип кола - \", df.vehicleType.unique())\n",
    "print(\"брой различни модели - \", len(df.model.unique()))"
   ]
  },
  {
   "cell_type": "markdown",
   "metadata": {},
   "source": [
    "Има доста празни записи. Ще направим следното:\n",
    "- gearbox, fuelType, vehicleType и model са категорни и процентно няма много липси, затова махаме редовете, където нямат стойност.\n",
    "- малко по-късно ще решим какво да правим с моделите.\n",
    "- изчистваме думичката \"andere\" (other) от колоните в които се среща.\n",
    "- първо ще пробваме да махнем всички редове, в които липсва notRepairedDamage."
   ]
  },
  {
   "cell_type": "code",
   "execution_count": 11,
   "metadata": {},
   "outputs": [],
   "source": [
    "df = df.dropna()"
   ]
  },
  {
   "cell_type": "markdown",
   "metadata": {},
   "source": [
    "Ще махнем и колоната с името, засега няма нужда от усложнения."
   ]
  },
  {
   "cell_type": "code",
   "execution_count": 12,
   "metadata": {},
   "outputs": [],
   "source": [
    "df = df.drop('name', 1)\n",
    "df = df.drop(df[df.fuelType == 'andere'].index)\n",
    "df = df.drop(df[df.vehicleType == 'andere'].index)"
   ]
  },
  {
   "cell_type": "markdown",
   "metadata": {},
   "source": [
    "Както и всички повтарящи се редове."
   ]
  },
  {
   "cell_type": "code",
   "execution_count": 13,
   "metadata": {},
   "outputs": [
    {
     "data": {
      "text/html": [
       "<div>\n",
       "<style scoped>\n",
       "    .dataframe tbody tr th:only-of-type {\n",
       "        vertical-align: middle;\n",
       "    }\n",
       "\n",
       "    .dataframe tbody tr th {\n",
       "        vertical-align: top;\n",
       "    }\n",
       "\n",
       "    .dataframe thead th {\n",
       "        text-align: right;\n",
       "    }\n",
       "</style>\n",
       "<table border=\"1\" class=\"dataframe\">\n",
       "  <thead>\n",
       "    <tr style=\"text-align: right;\">\n",
       "      <th></th>\n",
       "      <th>price</th>\n",
       "      <th>vehicleType</th>\n",
       "      <th>yearOfRegistration</th>\n",
       "      <th>gearbox</th>\n",
       "      <th>powerPS</th>\n",
       "      <th>model</th>\n",
       "      <th>kilometer</th>\n",
       "      <th>monthOfRegistration</th>\n",
       "      <th>fuelType</th>\n",
       "      <th>brand</th>\n",
       "      <th>notRepairedDamage</th>\n",
       "    </tr>\n",
       "  </thead>\n",
       "  <tbody>\n",
       "    <tr>\n",
       "      <th>3</th>\n",
       "      <td>1500</td>\n",
       "      <td>kleinwagen</td>\n",
       "      <td>2001</td>\n",
       "      <td>manuell</td>\n",
       "      <td>75</td>\n",
       "      <td>golf</td>\n",
       "      <td>150000</td>\n",
       "      <td>6</td>\n",
       "      <td>benzin</td>\n",
       "      <td>volkswagen</td>\n",
       "      <td>nein</td>\n",
       "    </tr>\n",
       "    <tr>\n",
       "      <th>4</th>\n",
       "      <td>3600</td>\n",
       "      <td>kleinwagen</td>\n",
       "      <td>2008</td>\n",
       "      <td>manuell</td>\n",
       "      <td>69</td>\n",
       "      <td>fabia</td>\n",
       "      <td>90000</td>\n",
       "      <td>7</td>\n",
       "      <td>diesel</td>\n",
       "      <td>skoda</td>\n",
       "      <td>nein</td>\n",
       "    </tr>\n",
       "    <tr>\n",
       "      <th>5</th>\n",
       "      <td>650</td>\n",
       "      <td>limousine</td>\n",
       "      <td>1995</td>\n",
       "      <td>manuell</td>\n",
       "      <td>102</td>\n",
       "      <td>3er</td>\n",
       "      <td>150000</td>\n",
       "      <td>10</td>\n",
       "      <td>benzin</td>\n",
       "      <td>bmw</td>\n",
       "      <td>ja</td>\n",
       "    </tr>\n",
       "    <tr>\n",
       "      <th>6</th>\n",
       "      <td>2200</td>\n",
       "      <td>cabrio</td>\n",
       "      <td>2004</td>\n",
       "      <td>manuell</td>\n",
       "      <td>109</td>\n",
       "      <td>2_reihe</td>\n",
       "      <td>150000</td>\n",
       "      <td>8</td>\n",
       "      <td>benzin</td>\n",
       "      <td>peugeot</td>\n",
       "      <td>nein</td>\n",
       "    </tr>\n",
       "    <tr>\n",
       "      <th>7</th>\n",
       "      <td>0</td>\n",
       "      <td>limousine</td>\n",
       "      <td>1980</td>\n",
       "      <td>manuell</td>\n",
       "      <td>50</td>\n",
       "      <td>andere</td>\n",
       "      <td>40000</td>\n",
       "      <td>7</td>\n",
       "      <td>benzin</td>\n",
       "      <td>volkswagen</td>\n",
       "      <td>nein</td>\n",
       "    </tr>\n",
       "    <tr>\n",
       "      <th>10</th>\n",
       "      <td>2000</td>\n",
       "      <td>limousine</td>\n",
       "      <td>2004</td>\n",
       "      <td>manuell</td>\n",
       "      <td>105</td>\n",
       "      <td>3_reihe</td>\n",
       "      <td>150000</td>\n",
       "      <td>12</td>\n",
       "      <td>benzin</td>\n",
       "      <td>mazda</td>\n",
       "      <td>nein</td>\n",
       "    </tr>\n",
       "    <tr>\n",
       "      <th>11</th>\n",
       "      <td>2799</td>\n",
       "      <td>kombi</td>\n",
       "      <td>2005</td>\n",
       "      <td>manuell</td>\n",
       "      <td>140</td>\n",
       "      <td>passat</td>\n",
       "      <td>150000</td>\n",
       "      <td>12</td>\n",
       "      <td>diesel</td>\n",
       "      <td>volkswagen</td>\n",
       "      <td>ja</td>\n",
       "    </tr>\n",
       "    <tr>\n",
       "      <th>...</th>\n",
       "      <td>...</td>\n",
       "      <td>...</td>\n",
       "      <td>...</td>\n",
       "      <td>...</td>\n",
       "      <td>...</td>\n",
       "      <td>...</td>\n",
       "      <td>...</td>\n",
       "      <td>...</td>\n",
       "      <td>...</td>\n",
       "      <td>...</td>\n",
       "      <td>...</td>\n",
       "    </tr>\n",
       "    <tr>\n",
       "      <th>371516</th>\n",
       "      <td>1490</td>\n",
       "      <td>kleinwagen</td>\n",
       "      <td>1998</td>\n",
       "      <td>manuell</td>\n",
       "      <td>50</td>\n",
       "      <td>lupo</td>\n",
       "      <td>150000</td>\n",
       "      <td>9</td>\n",
       "      <td>benzin</td>\n",
       "      <td>volkswagen</td>\n",
       "      <td>nein</td>\n",
       "    </tr>\n",
       "    <tr>\n",
       "      <th>371517</th>\n",
       "      <td>7900</td>\n",
       "      <td>limousine</td>\n",
       "      <td>2010</td>\n",
       "      <td>manuell</td>\n",
       "      <td>140</td>\n",
       "      <td>golf</td>\n",
       "      <td>150000</td>\n",
       "      <td>7</td>\n",
       "      <td>diesel</td>\n",
       "      <td>volkswagen</td>\n",
       "      <td>nein</td>\n",
       "    </tr>\n",
       "    <tr>\n",
       "      <th>371518</th>\n",
       "      <td>3999</td>\n",
       "      <td>kombi</td>\n",
       "      <td>2005</td>\n",
       "      <td>manuell</td>\n",
       "      <td>3</td>\n",
       "      <td>3er</td>\n",
       "      <td>150000</td>\n",
       "      <td>5</td>\n",
       "      <td>diesel</td>\n",
       "      <td>bmw</td>\n",
       "      <td>nein</td>\n",
       "    </tr>\n",
       "    <tr>\n",
       "      <th>371520</th>\n",
       "      <td>3200</td>\n",
       "      <td>limousine</td>\n",
       "      <td>2004</td>\n",
       "      <td>manuell</td>\n",
       "      <td>225</td>\n",
       "      <td>leon</td>\n",
       "      <td>150000</td>\n",
       "      <td>5</td>\n",
       "      <td>benzin</td>\n",
       "      <td>seat</td>\n",
       "      <td>ja</td>\n",
       "    </tr>\n",
       "    <tr>\n",
       "      <th>371524</th>\n",
       "      <td>1199</td>\n",
       "      <td>cabrio</td>\n",
       "      <td>2000</td>\n",
       "      <td>automatik</td>\n",
       "      <td>101</td>\n",
       "      <td>fortwo</td>\n",
       "      <td>125000</td>\n",
       "      <td>3</td>\n",
       "      <td>benzin</td>\n",
       "      <td>smart</td>\n",
       "      <td>nein</td>\n",
       "    </tr>\n",
       "    <tr>\n",
       "      <th>371525</th>\n",
       "      <td>9200</td>\n",
       "      <td>bus</td>\n",
       "      <td>1996</td>\n",
       "      <td>manuell</td>\n",
       "      <td>102</td>\n",
       "      <td>transporter</td>\n",
       "      <td>150000</td>\n",
       "      <td>3</td>\n",
       "      <td>diesel</td>\n",
       "      <td>volkswagen</td>\n",
       "      <td>nein</td>\n",
       "    </tr>\n",
       "    <tr>\n",
       "      <th>371527</th>\n",
       "      <td>28990</td>\n",
       "      <td>limousine</td>\n",
       "      <td>2013</td>\n",
       "      <td>manuell</td>\n",
       "      <td>320</td>\n",
       "      <td>m_reihe</td>\n",
       "      <td>50000</td>\n",
       "      <td>8</td>\n",
       "      <td>benzin</td>\n",
       "      <td>bmw</td>\n",
       "      <td>nein</td>\n",
       "    </tr>\n",
       "  </tbody>\n",
       "</table>\n",
       "<p>237235 rows × 11 columns</p>\n",
       "</div>"
      ],
      "text/plain": [
       "        price vehicleType  yearOfRegistration    gearbox  powerPS  \\\n",
       "3        1500  kleinwagen                2001    manuell       75   \n",
       "4        3600  kleinwagen                2008    manuell       69   \n",
       "5         650   limousine                1995    manuell      102   \n",
       "6        2200      cabrio                2004    manuell      109   \n",
       "7           0   limousine                1980    manuell       50   \n",
       "10       2000   limousine                2004    manuell      105   \n",
       "11       2799       kombi                2005    manuell      140   \n",
       "...       ...         ...                 ...        ...      ...   \n",
       "371516   1490  kleinwagen                1998    manuell       50   \n",
       "371517   7900   limousine                2010    manuell      140   \n",
       "371518   3999       kombi                2005    manuell        3   \n",
       "371520   3200   limousine                2004    manuell      225   \n",
       "371524   1199      cabrio                2000  automatik      101   \n",
       "371525   9200         bus                1996    manuell      102   \n",
       "371527  28990   limousine                2013    manuell      320   \n",
       "\n",
       "              model  kilometer  monthOfRegistration fuelType       brand  \\\n",
       "3              golf     150000                    6   benzin  volkswagen   \n",
       "4             fabia      90000                    7   diesel       skoda   \n",
       "5               3er     150000                   10   benzin         bmw   \n",
       "6           2_reihe     150000                    8   benzin     peugeot   \n",
       "7            andere      40000                    7   benzin  volkswagen   \n",
       "10          3_reihe     150000                   12   benzin       mazda   \n",
       "11           passat     150000                   12   diesel  volkswagen   \n",
       "...             ...        ...                  ...      ...         ...   \n",
       "371516         lupo     150000                    9   benzin  volkswagen   \n",
       "371517         golf     150000                    7   diesel  volkswagen   \n",
       "371518          3er     150000                    5   diesel         bmw   \n",
       "371520         leon     150000                    5   benzin        seat   \n",
       "371524       fortwo     125000                    3   benzin       smart   \n",
       "371525  transporter     150000                    3   diesel  volkswagen   \n",
       "371527      m_reihe      50000                    8   benzin         bmw   \n",
       "\n",
       "       notRepairedDamage  \n",
       "3                   nein  \n",
       "4                   nein  \n",
       "5                     ja  \n",
       "6                   nein  \n",
       "7                   nein  \n",
       "10                  nein  \n",
       "11                    ja  \n",
       "...                  ...  \n",
       "371516              nein  \n",
       "371517              nein  \n",
       "371518              nein  \n",
       "371520                ja  \n",
       "371524              nein  \n",
       "371525              nein  \n",
       "371527              nein  \n",
       "\n",
       "[237235 rows x 11 columns]"
      ]
     },
     "execution_count": 13,
     "metadata": {},
     "output_type": "execute_result"
    }
   ],
   "source": [
    "df = df.drop_duplicates()\n",
    "df"
   ]
  },
  {
   "cell_type": "markdown",
   "metadata": {},
   "source": [
    "#### Останаха 237235 реда.\n",
    "Да пробваме линейна регресия само по числовите колони:"
   ]
  },
  {
   "cell_type": "code",
   "execution_count": 14,
   "metadata": {},
   "outputs": [],
   "source": [
    "def get_x_y(dataframe):\n",
    "    X = dataframe[dataframe.describe().columns]\n",
    "    X = X.drop('price', 1)\n",
    "    y = dataframe['price']\n",
    "    \n",
    "    print('X: {}\\ny: {}'.format(X.shape, y.shape))\n",
    "    \n",
    "    return (X, y)"
   ]
  },
  {
   "cell_type": "code",
   "execution_count": 15,
   "metadata": {},
   "outputs": [
    {
     "name": "stdout",
     "output_type": "stream",
     "text": [
      "X: (237235, 4)\n",
      "y: (237235,)\n"
     ]
    }
   ],
   "source": [
    "(X, y) = get_x_y(df)"
   ]
  },
  {
   "cell_type": "code",
   "execution_count": 16,
   "metadata": {},
   "outputs": [],
   "source": [
    "X_train, X_test, y_train, y_test = train_test_split(X, y, random_state=1337)"
   ]
  },
  {
   "cell_type": "code",
   "execution_count": 17,
   "metadata": {},
   "outputs": [
    {
     "name": "stdout",
     "output_type": "stream",
     "text": [
      "train score: 0.00025802657984\n",
      "test score:  0.00268833306831\n"
     ]
    }
   ],
   "source": [
    "model = LinearRegression().fit(X_train, y_train)\n",
    "print(\"train score:\", model.score(X_train, y_train))\n",
    "print(\"test score: \", model.score(X_test, y_test))"
   ]
  },
  {
   "cell_type": "markdown",
   "metadata": {},
   "source": [
    "Много зле.\n",
    "Да разгледаме стойностите в други колони и да пробваме да ги ограничим."
   ]
  },
  {
   "cell_type": "code",
   "execution_count": 18,
   "metadata": {},
   "outputs": [
    {
     "data": {
      "text/plain": [
       "Text(0.5,0,'Year of registration')"
      ]
     },
     "execution_count": 18,
     "metadata": {},
     "output_type": "execute_result"
    },
    {
     "data": {
      "image/png": "[encoded data removed]",
      "text/plain": [
       "<matplotlib.figure.Figure at 0x21b028a9080>"
      ]
     },
     "metadata": {},
     "output_type": "display_data"
    }
   ],
   "source": [
    "df['yearOfRegistration'].hist(bins=100).set_xlabel(\"Year of registration\")"
   ]
  },
  {
   "cell_type": "markdown",
   "metadata": {},
   "source": [
    "Виждаме, че преди 1980 има много малко записи, затова ще пробваме да predict-ваме за последните 20-25 години."
   ]
  },
  {
   "cell_type": "code",
   "execution_count": 19,
   "metadata": {},
   "outputs": [
    {
     "data": {
      "text/plain": [
       "Text(0.5,0,'Price')"
      ]
     },
     "execution_count": 19,
     "metadata": {},
     "output_type": "execute_result"
    },
    {
     "data": {
      "image/png": "[encoded data removed]",
      "text/plain": [
       "<matplotlib.figure.Figure at 0x21b7fe71320>"
      ]
     },
     "metadata": {},
     "output_type": "display_data"
    }
   ],
   "source": [
    "prices = df[(df.price < 250000) & (df.yearOfRegistration < 2016) &(df.yearOfRegistration > 1995)]\n",
    "prices['price'].hist(bins=100).set_xlabel(\"Price\")"
   ]
  },
  {
   "cell_type": "markdown",
   "metadata": {},
   "source": [
    "Също така и че цените на повечето коли са до около 50000."
   ]
  },
  {
   "cell_type": "code",
   "execution_count": 20,
   "metadata": {},
   "outputs": [
    {
     "data": {
      "text/plain": [
       "Text(0.5,0,'Power in PS')"
      ]
     },
     "execution_count": 20,
     "metadata": {},
     "output_type": "execute_result"
    },
    {
     "data": {
      "image/png": "[encoded data removed]",
      "text/plain": [
       "<matplotlib.figure.Figure at 0x21b000efbe0>"
      ]
     },
     "metadata": {},
     "output_type": "display_data"
    }
   ],
   "source": [
    "powers = df[(df.powerPS < 2000) & (df.yearOfRegistration > 1995) & (df.yearOfRegistration < 2016)]\n",
    "powers['powerPS'].hist(bins=50).set_xlabel(\"Power in PS\")"
   ]
  },
  {
   "cell_type": "markdown",
   "metadata": {},
   "source": [
    "И повечето коли с мощност под 2000 к.с. са всъщност в интервала от 25 до 550."
   ]
  },
  {
   "cell_type": "code",
   "execution_count": 21,
   "metadata": {},
   "outputs": [],
   "source": [
    "df = df[(df.yearOfRegistration <= 2016) & (df.yearOfRegistration >= 1995) \n",
    "      & (df.price >= 250) & (df.price <= 50000) \n",
    "      & (df.powerPS >= 25)& (df.powerPS <= 550)]\n",
    "\n",
    "restricted_df = df"
   ]
  },
  {
   "cell_type": "code",
   "execution_count": 22,
   "metadata": {},
   "outputs": [
    {
     "name": "stdout",
     "output_type": "stream",
     "text": [
      "X: (208605, 4)\n",
      "y: (208605,)\n"
     ]
    }
   ],
   "source": [
    "(X, y) = get_x_y(restricted_df)"
   ]
  },
  {
   "cell_type": "code",
   "execution_count": 23,
   "metadata": {},
   "outputs": [],
   "source": [
    "X_train, X_test, y_train, y_test = train_test_split(X, y, random_state=1337)"
   ]
  },
  {
   "cell_type": "code",
   "execution_count": 24,
   "metadata": {},
   "outputs": [
    {
     "name": "stdout",
     "output_type": "stream",
     "text": [
      "train score: 0.706338422268\n",
      "test score:  0.706745226293\n"
     ]
    }
   ],
   "source": [
    "model = LinearRegression().fit(X_train, y_train)\n",
    "print(\"train score:\", model.score(X_train, y_train))\n",
    "print(\"test score: \", model.score(X_test, y_test))"
   ]
  },
  {
   "cell_type": "markdown",
   "metadata": {},
   "source": [
    "Това показва колко много outlier-и има.\n",
    "Нека пробваме one hot encoding за останалите колони.\n",
    "Няма да one hot encode-ваме модела, защото заема 252 уникални стойности."
   ]
  },
  {
   "cell_type": "code",
   "execution_count": 25,
   "metadata": {},
   "outputs": [],
   "source": [
    "restricted_df['model'] = restricted_df['model'].astype(str)\n",
    "restricted_df['brand'] = restricted_df['brand'].astype(str)"
   ]
  },
  {
   "cell_type": "code",
   "execution_count": 26,
   "metadata": {},
   "outputs": [],
   "source": [
    "encoded_restricted_df = restricted_df\n",
    "\n",
    "vehicleTypes = restricted_df.vehicleType.unique()\n",
    "gearboxes = restricted_df.gearbox.unique()\n",
    "fuelTypes = restricted_df.fuelType.unique()\n",
    "notRepairedDamages = restricted_df.notRepairedDamage.unique()\n",
    "brands = restricted_df.brand.unique()\n",
    "#models = restricted_df.model.unique()\n",
    "\n",
    "\n",
    "for v in vehicleTypes:\n",
    "    encoded_restricted_df[v] = (encoded_restricted_df.vehicleType == v).astype(float)\n",
    "    \n",
    "for g in gearboxes:\n",
    "    encoded_restricted_df[g] = (encoded_restricted_df.gearbox == g).astype(float)\n",
    "    \n",
    "for f in fuelTypes:\n",
    "    encoded_restricted_df[f] = (encoded_restricted_df.fuelType == f).astype(float)\n",
    "    \n",
    "for nrd in notRepairedDamages:\n",
    "    encoded_restricted_df[nrd] = (encoded_restricted_df.notRepairedDamage == nrd).astype(float)\n",
    "    \n",
    "for b in brands:\n",
    "    encoded_restricted_df[b] = (encoded_restricted_df.brand == b).astype(float)\n",
    "  \n",
    "#for m in models:\n",
    "#    encoded_restricted_df[m] = (encoded_restricted_df.model == m).astype(float)\n",
    "  \n",
    "encoded_restricted_df = encoded_restricted_df.drop(['vehicleType', 'gearbox', 'fuelType', 'notRepairedDamage','brand'],  axis=1)\n",
    "\n",
    "\n"
   ]
  },
  {
   "cell_type": "code",
   "execution_count": 27,
   "metadata": {},
   "outputs": [
    {
     "data": {
      "text/html": [
       "<div>\n",
       "<style scoped>\n",
       "    .dataframe tbody tr th:only-of-type {\n",
       "        vertical-align: middle;\n",
       "    }\n",
       "\n",
       "    .dataframe tbody tr th {\n",
       "        vertical-align: top;\n",
       "    }\n",
       "\n",
       "    .dataframe thead th {\n",
       "        text-align: right;\n",
       "    }\n",
       "</style>\n",
       "<table border=\"1\" class=\"dataframe\">\n",
       "  <thead>\n",
       "    <tr style=\"text-align: right;\">\n",
       "      <th></th>\n",
       "      <th>price</th>\n",
       "      <th>yearOfRegistration</th>\n",
       "      <th>powerPS</th>\n",
       "      <th>model</th>\n",
       "      <th>kilometer</th>\n",
       "      <th>monthOfRegistration</th>\n",
       "      <th>kleinwagen</th>\n",
       "      <th>limousine</th>\n",
       "      <th>cabrio</th>\n",
       "      <th>kombi</th>\n",
       "      <th>...</th>\n",
       "      <th>volvo</th>\n",
       "      <th>suzuki</th>\n",
       "      <th>rover</th>\n",
       "      <th>jeep</th>\n",
       "      <th>saab</th>\n",
       "      <th>daewoo</th>\n",
       "      <th>jaguar</th>\n",
       "      <th>land_rover</th>\n",
       "      <th>lada</th>\n",
       "      <th>trabant</th>\n",
       "    </tr>\n",
       "  </thead>\n",
       "  <tbody>\n",
       "    <tr>\n",
       "      <th>3</th>\n",
       "      <td>1500</td>\n",
       "      <td>2001</td>\n",
       "      <td>75</td>\n",
       "      <td>golf</td>\n",
       "      <td>150000</td>\n",
       "      <td>6</td>\n",
       "      <td>1.0</td>\n",
       "      <td>0.0</td>\n",
       "      <td>0.0</td>\n",
       "      <td>0.0</td>\n",
       "      <td>...</td>\n",
       "      <td>0.0</td>\n",
       "      <td>0.0</td>\n",
       "      <td>0.0</td>\n",
       "      <td>0.0</td>\n",
       "      <td>0.0</td>\n",
       "      <td>0.0</td>\n",
       "      <td>0.0</td>\n",
       "      <td>0.0</td>\n",
       "      <td>0.0</td>\n",
       "      <td>0.0</td>\n",
       "    </tr>\n",
       "    <tr>\n",
       "      <th>4</th>\n",
       "      <td>3600</td>\n",
       "      <td>2008</td>\n",
       "      <td>69</td>\n",
       "      <td>fabia</td>\n",
       "      <td>90000</td>\n",
       "      <td>7</td>\n",
       "      <td>1.0</td>\n",
       "      <td>0.0</td>\n",
       "      <td>0.0</td>\n",
       "      <td>0.0</td>\n",
       "      <td>...</td>\n",
       "      <td>0.0</td>\n",
       "      <td>0.0</td>\n",
       "      <td>0.0</td>\n",
       "      <td>0.0</td>\n",
       "      <td>0.0</td>\n",
       "      <td>0.0</td>\n",
       "      <td>0.0</td>\n",
       "      <td>0.0</td>\n",
       "      <td>0.0</td>\n",
       "      <td>0.0</td>\n",
       "    </tr>\n",
       "    <tr>\n",
       "      <th>5</th>\n",
       "      <td>650</td>\n",
       "      <td>1995</td>\n",
       "      <td>102</td>\n",
       "      <td>3er</td>\n",
       "      <td>150000</td>\n",
       "      <td>10</td>\n",
       "      <td>0.0</td>\n",
       "      <td>1.0</td>\n",
       "      <td>0.0</td>\n",
       "      <td>0.0</td>\n",
       "      <td>...</td>\n",
       "      <td>0.0</td>\n",
       "      <td>0.0</td>\n",
       "      <td>0.0</td>\n",
       "      <td>0.0</td>\n",
       "      <td>0.0</td>\n",
       "      <td>0.0</td>\n",
       "      <td>0.0</td>\n",
       "      <td>0.0</td>\n",
       "      <td>0.0</td>\n",
       "      <td>0.0</td>\n",
       "    </tr>\n",
       "    <tr>\n",
       "      <th>6</th>\n",
       "      <td>2200</td>\n",
       "      <td>2004</td>\n",
       "      <td>109</td>\n",
       "      <td>2_reihe</td>\n",
       "      <td>150000</td>\n",
       "      <td>8</td>\n",
       "      <td>0.0</td>\n",
       "      <td>0.0</td>\n",
       "      <td>1.0</td>\n",
       "      <td>0.0</td>\n",
       "      <td>...</td>\n",
       "      <td>0.0</td>\n",
       "      <td>0.0</td>\n",
       "      <td>0.0</td>\n",
       "      <td>0.0</td>\n",
       "      <td>0.0</td>\n",
       "      <td>0.0</td>\n",
       "      <td>0.0</td>\n",
       "      <td>0.0</td>\n",
       "      <td>0.0</td>\n",
       "      <td>0.0</td>\n",
       "    </tr>\n",
       "    <tr>\n",
       "      <th>10</th>\n",
       "      <td>2000</td>\n",
       "      <td>2004</td>\n",
       "      <td>105</td>\n",
       "      <td>3_reihe</td>\n",
       "      <td>150000</td>\n",
       "      <td>12</td>\n",
       "      <td>0.0</td>\n",
       "      <td>1.0</td>\n",
       "      <td>0.0</td>\n",
       "      <td>0.0</td>\n",
       "      <td>...</td>\n",
       "      <td>0.0</td>\n",
       "      <td>0.0</td>\n",
       "      <td>0.0</td>\n",
       "      <td>0.0</td>\n",
       "      <td>0.0</td>\n",
       "      <td>0.0</td>\n",
       "      <td>0.0</td>\n",
       "      <td>0.0</td>\n",
       "      <td>0.0</td>\n",
       "      <td>0.0</td>\n",
       "    </tr>\n",
       "    <tr>\n",
       "      <th>11</th>\n",
       "      <td>2799</td>\n",
       "      <td>2005</td>\n",
       "      <td>140</td>\n",
       "      <td>passat</td>\n",
       "      <td>150000</td>\n",
       "      <td>12</td>\n",
       "      <td>0.0</td>\n",
       "      <td>0.0</td>\n",
       "      <td>0.0</td>\n",
       "      <td>1.0</td>\n",
       "      <td>...</td>\n",
       "      <td>0.0</td>\n",
       "      <td>0.0</td>\n",
       "      <td>0.0</td>\n",
       "      <td>0.0</td>\n",
       "      <td>0.0</td>\n",
       "      <td>0.0</td>\n",
       "      <td>0.0</td>\n",
       "      <td>0.0</td>\n",
       "      <td>0.0</td>\n",
       "      <td>0.0</td>\n",
       "    </tr>\n",
       "    <tr>\n",
       "      <th>14</th>\n",
       "      <td>17999</td>\n",
       "      <td>2011</td>\n",
       "      <td>190</td>\n",
       "      <td>navara</td>\n",
       "      <td>70000</td>\n",
       "      <td>3</td>\n",
       "      <td>0.0</td>\n",
       "      <td>0.0</td>\n",
       "      <td>0.0</td>\n",
       "      <td>0.0</td>\n",
       "      <td>...</td>\n",
       "      <td>0.0</td>\n",
       "      <td>0.0</td>\n",
       "      <td>0.0</td>\n",
       "      <td>0.0</td>\n",
       "      <td>0.0</td>\n",
       "      <td>0.0</td>\n",
       "      <td>0.0</td>\n",
       "      <td>0.0</td>\n",
       "      <td>0.0</td>\n",
       "      <td>0.0</td>\n",
       "    </tr>\n",
       "    <tr>\n",
       "      <th>...</th>\n",
       "      <td>...</td>\n",
       "      <td>...</td>\n",
       "      <td>...</td>\n",
       "      <td>...</td>\n",
       "      <td>...</td>\n",
       "      <td>...</td>\n",
       "      <td>...</td>\n",
       "      <td>...</td>\n",
       "      <td>...</td>\n",
       "      <td>...</td>\n",
       "      <td>...</td>\n",
       "      <td>...</td>\n",
       "      <td>...</td>\n",
       "      <td>...</td>\n",
       "      <td>...</td>\n",
       "      <td>...</td>\n",
       "      <td>...</td>\n",
       "      <td>...</td>\n",
       "      <td>...</td>\n",
       "      <td>...</td>\n",
       "      <td>...</td>\n",
       "    </tr>\n",
       "    <tr>\n",
       "      <th>371512</th>\n",
       "      <td>5000</td>\n",
       "      <td>2003</td>\n",
       "      <td>260</td>\n",
       "      <td>e_klasse</td>\n",
       "      <td>150000</td>\n",
       "      <td>12</td>\n",
       "      <td>0.0</td>\n",
       "      <td>1.0</td>\n",
       "      <td>0.0</td>\n",
       "      <td>0.0</td>\n",
       "      <td>...</td>\n",
       "      <td>0.0</td>\n",
       "      <td>0.0</td>\n",
       "      <td>0.0</td>\n",
       "      <td>0.0</td>\n",
       "      <td>0.0</td>\n",
       "      <td>0.0</td>\n",
       "      <td>0.0</td>\n",
       "      <td>0.0</td>\n",
       "      <td>0.0</td>\n",
       "      <td>0.0</td>\n",
       "    </tr>\n",
       "    <tr>\n",
       "      <th>371516</th>\n",
       "      <td>1490</td>\n",
       "      <td>1998</td>\n",
       "      <td>50</td>\n",
       "      <td>lupo</td>\n",
       "      <td>150000</td>\n",
       "      <td>9</td>\n",
       "      <td>1.0</td>\n",
       "      <td>0.0</td>\n",
       "      <td>0.0</td>\n",
       "      <td>0.0</td>\n",
       "      <td>...</td>\n",
       "      <td>0.0</td>\n",
       "      <td>0.0</td>\n",
       "      <td>0.0</td>\n",
       "      <td>0.0</td>\n",
       "      <td>0.0</td>\n",
       "      <td>0.0</td>\n",
       "      <td>0.0</td>\n",
       "      <td>0.0</td>\n",
       "      <td>0.0</td>\n",
       "      <td>0.0</td>\n",
       "    </tr>\n",
       "    <tr>\n",
       "      <th>371517</th>\n",
       "      <td>7900</td>\n",
       "      <td>2010</td>\n",
       "      <td>140</td>\n",
       "      <td>golf</td>\n",
       "      <td>150000</td>\n",
       "      <td>7</td>\n",
       "      <td>0.0</td>\n",
       "      <td>1.0</td>\n",
       "      <td>0.0</td>\n",
       "      <td>0.0</td>\n",
       "      <td>...</td>\n",
       "      <td>0.0</td>\n",
       "      <td>0.0</td>\n",
       "      <td>0.0</td>\n",
       "      <td>0.0</td>\n",
       "      <td>0.0</td>\n",
       "      <td>0.0</td>\n",
       "      <td>0.0</td>\n",
       "      <td>0.0</td>\n",
       "      <td>0.0</td>\n",
       "      <td>0.0</td>\n",
       "    </tr>\n",
       "    <tr>\n",
       "      <th>371520</th>\n",
       "      <td>3200</td>\n",
       "      <td>2004</td>\n",
       "      <td>225</td>\n",
       "      <td>leon</td>\n",
       "      <td>150000</td>\n",
       "      <td>5</td>\n",
       "      <td>0.0</td>\n",
       "      <td>1.0</td>\n",
       "      <td>0.0</td>\n",
       "      <td>0.0</td>\n",
       "      <td>...</td>\n",
       "      <td>0.0</td>\n",
       "      <td>0.0</td>\n",
       "      <td>0.0</td>\n",
       "      <td>0.0</td>\n",
       "      <td>0.0</td>\n",
       "      <td>0.0</td>\n",
       "      <td>0.0</td>\n",
       "      <td>0.0</td>\n",
       "      <td>0.0</td>\n",
       "      <td>0.0</td>\n",
       "    </tr>\n",
       "    <tr>\n",
       "      <th>371524</th>\n",
       "      <td>1199</td>\n",
       "      <td>2000</td>\n",
       "      <td>101</td>\n",
       "      <td>fortwo</td>\n",
       "      <td>125000</td>\n",
       "      <td>3</td>\n",
       "      <td>0.0</td>\n",
       "      <td>0.0</td>\n",
       "      <td>1.0</td>\n",
       "      <td>0.0</td>\n",
       "      <td>...</td>\n",
       "      <td>0.0</td>\n",
       "      <td>0.0</td>\n",
       "      <td>0.0</td>\n",
       "      <td>0.0</td>\n",
       "      <td>0.0</td>\n",
       "      <td>0.0</td>\n",
       "      <td>0.0</td>\n",
       "      <td>0.0</td>\n",
       "      <td>0.0</td>\n",
       "      <td>0.0</td>\n",
       "    </tr>\n",
       "    <tr>\n",
       "      <th>371525</th>\n",
       "      <td>9200</td>\n",
       "      <td>1996</td>\n",
       "      <td>102</td>\n",
       "      <td>transporter</td>\n",
       "      <td>150000</td>\n",
       "      <td>3</td>\n",
       "      <td>0.0</td>\n",
       "      <td>0.0</td>\n",
       "      <td>0.0</td>\n",
       "      <td>0.0</td>\n",
       "      <td>...</td>\n",
       "      <td>0.0</td>\n",
       "      <td>0.0</td>\n",
       "      <td>0.0</td>\n",
       "      <td>0.0</td>\n",
       "      <td>0.0</td>\n",
       "      <td>0.0</td>\n",
       "      <td>0.0</td>\n",
       "      <td>0.0</td>\n",
       "      <td>0.0</td>\n",
       "      <td>0.0</td>\n",
       "    </tr>\n",
       "    <tr>\n",
       "      <th>371527</th>\n",
       "      <td>28990</td>\n",
       "      <td>2013</td>\n",
       "      <td>320</td>\n",
       "      <td>m_reihe</td>\n",
       "      <td>50000</td>\n",
       "      <td>8</td>\n",
       "      <td>0.0</td>\n",
       "      <td>1.0</td>\n",
       "      <td>0.0</td>\n",
       "      <td>0.0</td>\n",
       "      <td>...</td>\n",
       "      <td>0.0</td>\n",
       "      <td>0.0</td>\n",
       "      <td>0.0</td>\n",
       "      <td>0.0</td>\n",
       "      <td>0.0</td>\n",
       "      <td>0.0</td>\n",
       "      <td>0.0</td>\n",
       "      <td>0.0</td>\n",
       "      <td>0.0</td>\n",
       "      <td>0.0</td>\n",
       "    </tr>\n",
       "  </tbody>\n",
       "</table>\n",
       "<p>208605 rows × 62 columns</p>\n",
       "</div>"
      ],
      "text/plain": [
       "        price  yearOfRegistration  powerPS        model  kilometer  \\\n",
       "3        1500                2001       75         golf     150000   \n",
       "4        3600                2008       69        fabia      90000   \n",
       "5         650                1995      102          3er     150000   \n",
       "6        2200                2004      109      2_reihe     150000   \n",
       "10       2000                2004      105      3_reihe     150000   \n",
       "11       2799                2005      140       passat     150000   \n",
       "14      17999                2011      190       navara      70000   \n",
       "...       ...                 ...      ...          ...        ...   \n",
       "371512   5000                2003      260     e_klasse     150000   \n",
       "371516   1490                1998       50         lupo     150000   \n",
       "371517   7900                2010      140         golf     150000   \n",
       "371520   3200                2004      225         leon     150000   \n",
       "371524   1199                2000      101       fortwo     125000   \n",
       "371525   9200                1996      102  transporter     150000   \n",
       "371527  28990                2013      320      m_reihe      50000   \n",
       "\n",
       "        monthOfRegistration  kleinwagen  limousine  cabrio  kombi   ...     \\\n",
       "3                         6         1.0        0.0     0.0    0.0   ...      \n",
       "4                         7         1.0        0.0     0.0    0.0   ...      \n",
       "5                        10         0.0        1.0     0.0    0.0   ...      \n",
       "6                         8         0.0        0.0     1.0    0.0   ...      \n",
       "10                       12         0.0        1.0     0.0    0.0   ...      \n",
       "11                       12         0.0        0.0     0.0    1.0   ...      \n",
       "14                        3         0.0        0.0     0.0    0.0   ...      \n",
       "...                     ...         ...        ...     ...    ...   ...      \n",
       "371512                   12         0.0        1.0     0.0    0.0   ...      \n",
       "371516                    9         1.0        0.0     0.0    0.0   ...      \n",
       "371517                    7         0.0        1.0     0.0    0.0   ...      \n",
       "371520                    5         0.0        1.0     0.0    0.0   ...      \n",
       "371524                    3         0.0        0.0     1.0    0.0   ...      \n",
       "371525                    3         0.0        0.0     0.0    0.0   ...      \n",
       "371527                    8         0.0        1.0     0.0    0.0   ...      \n",
       "\n",
       "        volvo  suzuki  rover  jeep  saab  daewoo  jaguar  land_rover  lada  \\\n",
       "3         0.0     0.0    0.0   0.0   0.0     0.0     0.0         0.0   0.0   \n",
       "4         0.0     0.0    0.0   0.0   0.0     0.0     0.0         0.0   0.0   \n",
       "5         0.0     0.0    0.0   0.0   0.0     0.0     0.0         0.0   0.0   \n",
       "6         0.0     0.0    0.0   0.0   0.0     0.0     0.0         0.0   0.0   \n",
       "10        0.0     0.0    0.0   0.0   0.0     0.0     0.0         0.0   0.0   \n",
       "11        0.0     0.0    0.0   0.0   0.0     0.0     0.0         0.0   0.0   \n",
       "14        0.0     0.0    0.0   0.0   0.0     0.0     0.0         0.0   0.0   \n",
       "...       ...     ...    ...   ...   ...     ...     ...         ...   ...   \n",
       "371512    0.0     0.0    0.0   0.0   0.0     0.0     0.0         0.0   0.0   \n",
       "371516    0.0     0.0    0.0   0.0   0.0     0.0     0.0         0.0   0.0   \n",
       "371517    0.0     0.0    0.0   0.0   0.0     0.0     0.0         0.0   0.0   \n",
       "371520    0.0     0.0    0.0   0.0   0.0     0.0     0.0         0.0   0.0   \n",
       "371524    0.0     0.0    0.0   0.0   0.0     0.0     0.0         0.0   0.0   \n",
       "371525    0.0     0.0    0.0   0.0   0.0     0.0     0.0         0.0   0.0   \n",
       "371527    0.0     0.0    0.0   0.0   0.0     0.0     0.0         0.0   0.0   \n",
       "\n",
       "        trabant  \n",
       "3           0.0  \n",
       "4           0.0  \n",
       "5           0.0  \n",
       "6           0.0  \n",
       "10          0.0  \n",
       "11          0.0  \n",
       "14          0.0  \n",
       "...         ...  \n",
       "371512      0.0  \n",
       "371516      0.0  \n",
       "371517      0.0  \n",
       "371520      0.0  \n",
       "371524      0.0  \n",
       "371525      0.0  \n",
       "371527      0.0  \n",
       "\n",
       "[208605 rows x 62 columns]"
      ]
     },
     "execution_count": 27,
     "metadata": {},
     "output_type": "execute_result"
    }
   ],
   "source": [
    "encoded_restricted_df"
   ]
  },
  {
   "cell_type": "code",
   "execution_count": 28,
   "metadata": {},
   "outputs": [],
   "source": [
    "encoded_restricted_df = encoded_restricted_df.drop('model', 1)"
   ]
  },
  {
   "cell_type": "code",
   "execution_count": 29,
   "metadata": {},
   "outputs": [
    {
     "name": "stdout",
     "output_type": "stream",
     "text": [
      "X: (208605, 60)\n",
      "y: (208605,)\n"
     ]
    }
   ],
   "source": [
    "(X, y) = get_x_y(encoded_restricted_df)"
   ]
  },
  {
   "cell_type": "code",
   "execution_count": 30,
   "metadata": {},
   "outputs": [],
   "source": [
    "X_train, X_test, y_train, y_test = train_test_split(X, y, random_state=1337)"
   ]
  },
  {
   "cell_type": "code",
   "execution_count": 31,
   "metadata": {},
   "outputs": [
    {
     "name": "stdout",
     "output_type": "stream",
     "text": [
      "train score: 0.762491524104\n",
      "test score:  0.762058309058\n"
     ]
    }
   ],
   "source": [
    "model = LinearRegression().fit(X_train, y_train)\n",
    "print(\"train score:\", model.score(X_train, y_train))\n",
    "print(\"test score: \", model.score(X_test, y_test))"
   ]
  },
  {
   "cell_type": "markdown",
   "metadata": {},
   "source": [
    "Да видим как изглежда разпределението на цената:"
   ]
  },
  {
   "cell_type": "code",
   "execution_count": 32,
   "metadata": {},
   "outputs": [
    {
     "data": {
      "text/plain": [
       "<matplotlib.axes._subplots.AxesSubplot at 0x21b028a9400>"
      ]
     },
     "execution_count": 32,
     "metadata": {},
     "output_type": "execute_result"
    },
    {
     "data": {
      "image/png": "[encoded data removed]",
      "text/plain": [
       "<matplotlib.figure.Figure at 0x21b00366b00>"
      ]
     },
     "metadata": {},
     "output_type": "display_data"
    }
   ],
   "source": [
    "sns.distplot(encoded_restricted_df.price)"
   ]
  },
  {
   "cell_type": "markdown",
   "metadata": {},
   "source": [
    "Не изглежда добре. Да пробваме да логаритмуваме."
   ]
  },
  {
   "cell_type": "code",
   "execution_count": 33,
   "metadata": {},
   "outputs": [
    {
     "data": {
      "text/plain": [
       "<matplotlib.axes._subplots.AxesSubplot at 0x21b003ae7f0>"
      ]
     },
     "execution_count": 33,
     "metadata": {},
     "output_type": "execute_result"
    },
    {
     "data": {
      "image/png": "[encoded data removed]",
      "text/plain": [
       "<matplotlib.figure.Figure at 0x21b7a0713c8>"
      ]
     },
     "metadata": {},
     "output_type": "display_data"
    }
   ],
   "source": [
    "sns.distplot(np.log10(encoded_restricted_df['price'] + 0.0000000001))"
   ]
  },
  {
   "cell_type": "markdown",
   "metadata": {},
   "source": [
    "Много по-добре.\n",
    "Да пробваме модела така."
   ]
  },
  {
   "cell_type": "code",
   "execution_count": 34,
   "metadata": {},
   "outputs": [],
   "source": [
    "encoded_restricted_df['price'] = np.log10(encoded_restricted_df['price'] + 0.0000000001)"
   ]
  },
  {
   "cell_type": "code",
   "execution_count": 35,
   "metadata": {},
   "outputs": [
    {
     "name": "stdout",
     "output_type": "stream",
     "text": [
      "X: (208605, 60)\n",
      "y: (208605,)\n"
     ]
    }
   ],
   "source": [
    "(X, y) = get_x_y(encoded_restricted_df)"
   ]
  },
  {
   "cell_type": "code",
   "execution_count": 36,
   "metadata": {},
   "outputs": [],
   "source": [
    "X_train, X_test, y_train, y_test = train_test_split(X, y, random_state=1337)"
   ]
  },
  {
   "cell_type": "code",
   "execution_count": 37,
   "metadata": {},
   "outputs": [
    {
     "name": "stdout",
     "output_type": "stream",
     "text": [
      "train score: 0.862640714508\n",
      "test score:  0.862183594169\n"
     ]
    }
   ],
   "source": [
    "model = LinearRegression().fit(X_train, y_train)\n",
    "print(\"train score:\", model.score(X_train, y_train))\n",
    "print(\"test score: \", model.score(X_test, y_test))"
   ]
  },
  {
   "cell_type": "markdown",
   "metadata": {},
   "source": [
    "10% увеличение.Да пробваме и за мощността?"
   ]
  },
  {
   "cell_type": "code",
   "execution_count": 38,
   "metadata": {},
   "outputs": [
    {
     "data": {
      "text/plain": [
       "<matplotlib.axes._subplots.AxesSubplot at 0x21b01f0a710>"
      ]
     },
     "execution_count": 38,
     "metadata": {},
     "output_type": "execute_result"
    },
    {
     "data": {
      "image/png": "[encoded data removed]",
      "text/plain": [
       "<matplotlib.figure.Figure at 0x21b00366198>"
      ]
     },
     "metadata": {},
     "output_type": "display_data"
    }
   ],
   "source": [
    "sns.distplot(encoded_restricted_df.powerPS)"
   ]
  },
  {
   "cell_type": "code",
   "execution_count": 39,
   "metadata": {},
   "outputs": [
    {
     "data": {
      "text/plain": [
       "<matplotlib.axes._subplots.AxesSubplot at 0x21b02181320>"
      ]
     },
     "execution_count": 39,
     "metadata": {},
     "output_type": "execute_result"
    },
    {
     "data": {
      "image/png": "[encoded data removed]",
      "text/plain": [
       "<matplotlib.figure.Figure at 0x21b020ec9b0>"
      ]
     },
     "metadata": {},
     "output_type": "display_data"
    }
   ],
   "source": [
    "sns.distplot(np.log2(encoded_restricted_df['powerPS'] + 0.0000000001))"
   ]
  },
  {
   "cell_type": "code",
   "execution_count": 40,
   "metadata": {},
   "outputs": [],
   "source": [
    "encoded_restricted_df['powerPS'] = np.log2(encoded_restricted_df['powerPS'] + 0.0000000001)"
   ]
  },
  {
   "cell_type": "code",
   "execution_count": 41,
   "metadata": {},
   "outputs": [
    {
     "name": "stdout",
     "output_type": "stream",
     "text": [
      "X: (208605, 60)\n",
      "y: (208605,)\n"
     ]
    }
   ],
   "source": [
    "(X, y) = get_x_y(encoded_restricted_df)"
   ]
  },
  {
   "cell_type": "code",
   "execution_count": 42,
   "metadata": {},
   "outputs": [],
   "source": [
    "X_train, X_test, y_train, y_test = train_test_split(X, y, random_state=1337)"
   ]
  },
  {
   "cell_type": "code",
   "execution_count": 43,
   "metadata": {},
   "outputs": [
    {
     "name": "stdout",
     "output_type": "stream",
     "text": [
      "train score: 0.863234786798\n",
      "test score:  0.862485950084\n"
     ]
    }
   ],
   "source": [
    "model = LinearRegression().fit(X_train, y_train)\n",
    "print(\"train score:\", model.score(X_train, y_train))\n",
    "print(\"test score: \", model.score(X_test, y_test))"
   ]
  },
  {
   "cell_type": "markdown",
   "metadata": {},
   "source": [
    "Минимално подобрение.\n",
    "Сега да пробваме и с регуляризация."
   ]
  },
  {
   "cell_type": "markdown",
   "metadata": {},
   "source": [
    "#### Ridge"
   ]
  },
  {
   "cell_type": "code",
   "execution_count": 44,
   "metadata": {},
   "outputs": [
    {
     "name": "stdout",
     "output_type": "stream",
     "text": [
      "alpha: 0.001\n",
      "train score: 0.863234786795\n",
      "test score:  0.862485951371\n",
      "alpha: 0.003\n",
      "train score: 0.863234786777\n",
      "test score:  0.862485953944\n",
      "alpha: 0.01\n",
      "train score: 0.863234786573\n",
      "test score:  0.862485962947\n",
      "alpha: 0.03\n",
      "train score: 0.863234784811\n",
      "test score:  0.862485988622\n",
      "alpha: 0.1\n",
      "train score: 0.863234766101\n",
      "test score:  0.862486077939\n",
      "alpha: 0.3\n",
      "train score: 0.863234630159\n",
      "test score:  0.862486328676\n",
      "alpha: 1\n",
      "train score: 0.863233734009\n",
      "test score:  0.862487159832\n",
      "alpha: 3\n",
      "train score: 0.86323106677\n",
      "test score:  0.862489200921\n",
      "alpha: 10\n",
      "train score: 0.86322411728\n",
      "test score:  0.862493209736\n"
     ]
    }
   ],
   "source": [
    "alphas = [0.001, 0.003, 0.01, 0.03, 0.1, 0.3, 1, 3, 10]\n",
    "\n",
    "for a in alphas:\n",
    "    ridge = Ridge(alpha = a).fit(X_train, y_train)\n",
    "    print(\"alpha:\", a)\n",
    "    print(\"train score:\", ridge.score(X_train, y_train))\n",
    "    print(\"test score: \", ridge.score(X_test, y_test))"
   ]
  },
  {
   "cell_type": "markdown",
   "metadata": {},
   "source": [
    "#### Lasso"
   ]
  },
  {
   "cell_type": "code",
   "execution_count": 45,
   "metadata": {},
   "outputs": [
    {
     "name": "stdout",
     "output_type": "stream",
     "text": [
      "alpha: 0.0001\n",
      "Features used:  49/60\n",
      "train score: 0.862760792631\n",
      "test score:  0.862048271484\n",
      "alpha: 0.001\n",
      "Features used:  28/60\n",
      "train score: 0.856437388645\n",
      "test score:  0.855472754322\n",
      "alpha: 0.01\n",
      "Features used:  12/60\n",
      "train score: 0.813241313233\n",
      "test score:  0.811622567579\n",
      "alpha: 0.1\n",
      "Features used:  3/60\n",
      "train score: 0.669593466082\n",
      "test score:  0.669139709138\n",
      "alpha: 1\n",
      "Features used:  2/60\n",
      "train score: 0.344936100143\n",
      "test score:  0.343930781265\n"
     ]
    }
   ],
   "source": [
    "alphas = [0.0001, 0.001, 0.01, 0.1, 1]\n",
    "\n",
    "for a in alphas:\n",
    "    lasso = Lasso(alpha = a, max_iter=100000).fit(X_train, y_train)\n",
    "    print(\"alpha:\", a)\n",
    "    print(\"Features used:  {}/{}\".format(np.sum(lasso.coef_ != 0), np.shape(X_train)[1]))\n",
    "    print(\"train score:\", lasso.score(X_train, y_train))\n",
    "    print(\"test score: \", lasso.score(X_test, y_test))"
   ]
  },
  {
   "cell_type": "markdown",
   "metadata": {},
   "source": [
    "От регуляризацията няма почти никакъв ефект.\n",
    "Нека пробваме с random forest.\n",
    "Но преди това да покажем как изглеждат коефициентите."
   ]
  },
  {
   "cell_type": "code",
   "execution_count": 46,
   "metadata": {},
   "outputs": [],
   "source": [
    "def linear_regression_features(X, model):\n",
    "    plt.figure(figsize=(12,8))\n",
    "    barplot = sns.barplot(x=X.columns, y=model.coef_, orient='vertical')\n",
    "    plt.setp(barplot.get_xticklabels(), rotation=90)\n",
    "    plt.grid(True)"
   ]
  },
  {
   "cell_type": "code",
   "execution_count": 47,
   "metadata": {},
   "outputs": [
    {
     "data": {
      "image/png": "[encoded data removed]",
      "text/plain": [
       "<matplotlib.figure.Figure at 0x21b027dc128>"
      ]
     },
     "metadata": {},
     "output_type": "display_data"
    }
   ],
   "source": [
    "linear_regression_features(X, model)"
   ]
  },
  {
   "cell_type": "code",
   "execution_count": 48,
   "metadata": {},
   "outputs": [
    {
     "name": "stdout",
     "output_type": "stream",
     "text": [
      "train score: 0.963645675543\n",
      "test score:  0.875995994451\n"
     ]
    }
   ],
   "source": [
    "model = RandomForestRegressor(random_state=1337, \n",
    "                              criterion=\"mse\").fit(X_train, y_train)\n",
    "print(\"train score:\", model.score(X_train, y_train))\n",
    "print(\"test score: \", model.score(X_test, y_test))"
   ]
  },
  {
   "cell_type": "markdown",
   "metadata": {},
   "source": [
    "Забелязваме overfitting.\n",
    "\n",
    "Да пристъпим към последния коз - GridSearchCV."
   ]
  },
  {
   "cell_type": "markdown",
   "metadata": {},
   "source": [
    "# Следващите 2 стъпки отнемат поне 5-6 минути!"
   ]
  },
  {
   "cell_type": "code",
   "execution_count": 51,
   "metadata": {},
   "outputs": [],
   "source": [
    "search = GridSearchCV(model, {'n_estimators': [10, 50],\n",
    "                             'min_samples_leaf': [1, 3, 5, 10]})\n",
    "search.fit(X, y)\n",
    "\n",
    "pd.DataFrame(search.cv_results_)[['rank_test_score', 'mean_test_score', 'params']].sort_values(by='rank_test_score').head(10)"
   ]
  },
  {
   "cell_type": "code",
   "execution_count": 59,
   "metadata": {},
   "outputs": [
    {
     "name": "stdout",
     "output_type": "stream",
     "text": [
      "train score: 0.927102655838\n",
      "test score:  0.891536963872\n"
     ]
    }
   ],
   "source": [
    "forest = RandomForestRegressor(random_state=1337, \n",
    "                                min_samples_leaf=5,\n",
    "                                n_estimators=500).fit(X_train, y_train)\n",
    "print(\"train score:\", forest.score(X_train, y_train))\n",
    "print(\"test score: \", forest.score(X_test, y_test))"
   ]
  },
  {
   "cell_type": "markdown",
   "metadata": {},
   "source": [
    "Определено доста по-малък overfitting. Освен това, изпълнението е прекалено бавно - над 10 минути."
   ]
  },
  {
   "cell_type": "markdown",
   "metadata": {},
   "source": [
    "Да направим и cross validation за моделът на линейната регресия."
   ]
  },
  {
   "cell_type": "code",
   "execution_count": 49,
   "metadata": {},
   "outputs": [],
   "source": [
    "X_train, X_test, y_train, y_test = train_test_split(X, y, test_size=0.2, random_state=1337)\n",
    "\n",
    "X_train, X_val, y_train, y_val = train_test_split(X_train, y_train, test_size=0.2, random_state=1337)"
   ]
  },
  {
   "cell_type": "code",
   "execution_count": 50,
   "metadata": {},
   "outputs": [
    {
     "name": "stdout",
     "output_type": "stream",
     "text": [
      "train score: 0.863877349493\n",
      "test score:  0.862195528349\n",
      "val score:  0.860698330318\n"
     ]
    }
   ],
   "source": [
    "model = LinearRegression()\n",
    "model = model.fit(X_train, y_train)\n",
    "\n",
    "print(\"train score:\", model.score(X_train, y_train))\n",
    "print(\"test score: \", model.score(X_test, y_test))\n",
    "print(\"val score: \", model.score(X_val, y_val))"
   ]
  },
  {
   "cell_type": "code",
   "execution_count": 51,
   "metadata": {},
   "outputs": [
    {
     "name": "stdout",
     "output_type": "stream",
     "text": [
      "Mean: 0.8628662093875279\n",
      "Std: 0.008797494736470813\n",
      "Min: 0.8426348805577054\n",
      "Max: 0.8803141689008799\n"
     ]
    }
   ],
   "source": [
    "model = LinearRegression()\n",
    "\n",
    "scores = cross_val_score(model, X, y, cv=100, scoring='r2')\n",
    "print(\"Mean: {}\".format(scores.mean()))\n",
    "print(\"Std: {}\".format(scores.std()))\n",
    "print(\"Min: {}\".format(scores.min()))\n",
    "print(\"Max: {}\".format(scores.max()))"
   ]
  },
  {
   "cell_type": "code",
   "execution_count": null,
   "metadata": {},
   "outputs": [],
   "source": []
  }
 ],
 "metadata": {
  "kernelspec": {
   "display_name": "Python 3",
   "language": "python",
   "name": "python3"
  },
  "language_info": {
   "codemirror_mode": {
    "name": "ipython",
    "version": 3
   },
   "file_extension": ".py",
   "mimetype": "text/x-python",
   "name": "python",
   "nbconvert_exporter": "python",
   "pygments_lexer": "ipython3",
   "version": "3.6.3"
  }
 },
 "nbformat": 4,
 "nbformat_minor": 2
}
